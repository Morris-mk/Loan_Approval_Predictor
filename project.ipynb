{
 "cells": [
  {
   "cell_type": "markdown",
   "id": "b365fa23",
   "metadata": {},
   "source": [
    "## Load Data and dependencies"
   ]
  },
  {
   "cell_type": "code",
   "execution_count": 3,
   "id": "9169948b",
   "metadata": {},
   "outputs": [],
   "source": [
    "# import libraries\n",
    "import pandas as pd\n",
    "import numpy as np\n",
    "import matplotlib.pyplot as plt\n",
    "import seaborn as sns\n",
    "\n",
    "from sklearn.preprocessing import StandardScaler, OneHotEncoder\n",
    "from sklearn.model_selection import train_test_split\n",
    "from sklearn.ensemble import RandomForestRegressor, RandomForestClassifier\n",
    "\n"
   ]
  },
  {
   "cell_type": "code",
   "execution_count": 41,
   "id": "346f11a7",
   "metadata": {},
   "outputs": [],
   "source": [
    "# load the datasets\n",
    "train = pd.read_csv(r\"C:\\Users\\Morinyo Baddestman\\Documents\\playground-series-s4e10\\train.csv\", index_col=0)"
   ]
  },
  {
   "cell_type": "code",
   "execution_count": 42,
   "id": "abab3c53",
   "metadata": {},
   "outputs": [
    {
     "data": {
      "application/vnd.microsoft.datawrangler.viewer.v0+json": {
       "columns": [
        {
         "name": "id",
         "rawType": "int64",
         "type": "integer"
        },
        {
         "name": "person_age",
         "rawType": "int64",
         "type": "integer"
        },
        {
         "name": "person_income",
         "rawType": "int64",
         "type": "integer"
        },
        {
         "name": "person_home_ownership",
         "rawType": "object",
         "type": "string"
        },
        {
         "name": "person_emp_length",
         "rawType": "float64",
         "type": "float"
        },
        {
         "name": "loan_intent",
         "rawType": "object",
         "type": "string"
        },
        {
         "name": "loan_grade",
         "rawType": "object",
         "type": "string"
        },
        {
         "name": "loan_amnt",
         "rawType": "int64",
         "type": "integer"
        },
        {
         "name": "loan_int_rate",
         "rawType": "float64",
         "type": "float"
        },
        {
         "name": "loan_percent_income",
         "rawType": "float64",
         "type": "float"
        },
        {
         "name": "cb_person_default_on_file",
         "rawType": "object",
         "type": "string"
        },
        {
         "name": "cb_person_cred_hist_length",
         "rawType": "int64",
         "type": "integer"
        },
        {
         "name": "loan_status",
         "rawType": "int64",
         "type": "integer"
        }
       ],
       "ref": "87f5b589-4e97-4d65-b0dc-2f7204c074db",
       "rows": [
        [
         "0",
         "37",
         "35000",
         "RENT",
         "0.0",
         "EDUCATION",
         "B",
         "6000",
         "11.49",
         "0.17",
         "N",
         "14",
         "0"
        ],
        [
         "1",
         "22",
         "56000",
         "OWN",
         "6.0",
         "MEDICAL",
         "C",
         "4000",
         "13.35",
         "0.07",
         "N",
         "2",
         "0"
        ],
        [
         "2",
         "29",
         "28800",
         "OWN",
         "8.0",
         "PERSONAL",
         "A",
         "6000",
         "8.9",
         "0.21",
         "N",
         "10",
         "0"
        ],
        [
         "3",
         "30",
         "70000",
         "RENT",
         "14.0",
         "VENTURE",
         "B",
         "12000",
         "11.11",
         "0.17",
         "N",
         "5",
         "0"
        ],
        [
         "4",
         "22",
         "60000",
         "RENT",
         "2.0",
         "MEDICAL",
         "A",
         "6000",
         "6.92",
         "0.1",
         "N",
         "3",
         "0"
        ]
       ],
       "shape": {
        "columns": 12,
        "rows": 5
       }
      },
      "text/html": [
       "<div>\n",
       "<style scoped>\n",
       "    .dataframe tbody tr th:only-of-type {\n",
       "        vertical-align: middle;\n",
       "    }\n",
       "\n",
       "    .dataframe tbody tr th {\n",
       "        vertical-align: top;\n",
       "    }\n",
       "\n",
       "    .dataframe thead th {\n",
       "        text-align: right;\n",
       "    }\n",
       "</style>\n",
       "<table border=\"1\" class=\"dataframe\">\n",
       "  <thead>\n",
       "    <tr style=\"text-align: right;\">\n",
       "      <th></th>\n",
       "      <th>person_age</th>\n",
       "      <th>person_income</th>\n",
       "      <th>person_home_ownership</th>\n",
       "      <th>person_emp_length</th>\n",
       "      <th>loan_intent</th>\n",
       "      <th>loan_grade</th>\n",
       "      <th>loan_amnt</th>\n",
       "      <th>loan_int_rate</th>\n",
       "      <th>loan_percent_income</th>\n",
       "      <th>cb_person_default_on_file</th>\n",
       "      <th>cb_person_cred_hist_length</th>\n",
       "      <th>loan_status</th>\n",
       "    </tr>\n",
       "    <tr>\n",
       "      <th>id</th>\n",
       "      <th></th>\n",
       "      <th></th>\n",
       "      <th></th>\n",
       "      <th></th>\n",
       "      <th></th>\n",
       "      <th></th>\n",
       "      <th></th>\n",
       "      <th></th>\n",
       "      <th></th>\n",
       "      <th></th>\n",
       "      <th></th>\n",
       "      <th></th>\n",
       "    </tr>\n",
       "  </thead>\n",
       "  <tbody>\n",
       "    <tr>\n",
       "      <th>0</th>\n",
       "      <td>37</td>\n",
       "      <td>35000</td>\n",
       "      <td>RENT</td>\n",
       "      <td>0.0</td>\n",
       "      <td>EDUCATION</td>\n",
       "      <td>B</td>\n",
       "      <td>6000</td>\n",
       "      <td>11.49</td>\n",
       "      <td>0.17</td>\n",
       "      <td>N</td>\n",
       "      <td>14</td>\n",
       "      <td>0</td>\n",
       "    </tr>\n",
       "    <tr>\n",
       "      <th>1</th>\n",
       "      <td>22</td>\n",
       "      <td>56000</td>\n",
       "      <td>OWN</td>\n",
       "      <td>6.0</td>\n",
       "      <td>MEDICAL</td>\n",
       "      <td>C</td>\n",
       "      <td>4000</td>\n",
       "      <td>13.35</td>\n",
       "      <td>0.07</td>\n",
       "      <td>N</td>\n",
       "      <td>2</td>\n",
       "      <td>0</td>\n",
       "    </tr>\n",
       "    <tr>\n",
       "      <th>2</th>\n",
       "      <td>29</td>\n",
       "      <td>28800</td>\n",
       "      <td>OWN</td>\n",
       "      <td>8.0</td>\n",
       "      <td>PERSONAL</td>\n",
       "      <td>A</td>\n",
       "      <td>6000</td>\n",
       "      <td>8.90</td>\n",
       "      <td>0.21</td>\n",
       "      <td>N</td>\n",
       "      <td>10</td>\n",
       "      <td>0</td>\n",
       "    </tr>\n",
       "    <tr>\n",
       "      <th>3</th>\n",
       "      <td>30</td>\n",
       "      <td>70000</td>\n",
       "      <td>RENT</td>\n",
       "      <td>14.0</td>\n",
       "      <td>VENTURE</td>\n",
       "      <td>B</td>\n",
       "      <td>12000</td>\n",
       "      <td>11.11</td>\n",
       "      <td>0.17</td>\n",
       "      <td>N</td>\n",
       "      <td>5</td>\n",
       "      <td>0</td>\n",
       "    </tr>\n",
       "    <tr>\n",
       "      <th>4</th>\n",
       "      <td>22</td>\n",
       "      <td>60000</td>\n",
       "      <td>RENT</td>\n",
       "      <td>2.0</td>\n",
       "      <td>MEDICAL</td>\n",
       "      <td>A</td>\n",
       "      <td>6000</td>\n",
       "      <td>6.92</td>\n",
       "      <td>0.10</td>\n",
       "      <td>N</td>\n",
       "      <td>3</td>\n",
       "      <td>0</td>\n",
       "    </tr>\n",
       "  </tbody>\n",
       "</table>\n",
       "</div>"
      ],
      "text/plain": [
       "    person_age  person_income  ... cb_person_cred_hist_length  loan_status\n",
       "id                             ...                                        \n",
       "0           37          35000  ...                         14            0\n",
       "1           22          56000  ...                          2            0\n",
       "2           29          28800  ...                         10            0\n",
       "3           30          70000  ...                          5            0\n",
       "4           22          60000  ...                          3            0\n",
       "\n",
       "[5 rows x 12 columns]"
      ]
     },
     "execution_count": 42,
     "metadata": {},
     "output_type": "execute_result"
    }
   ],
   "source": [
    "train.head()"
   ]
  },
  {
   "cell_type": "code",
   "execution_count": 43,
   "id": "7a3455bc",
   "metadata": {},
   "outputs": [
    {
     "name": "stdout",
     "output_type": "stream",
     "text": [
      "train dataset shape: (58645, 12)\n"
     ]
    }
   ],
   "source": [
    "# check shape\n",
    "print('train dataset shape:', train.shape)"
   ]
  },
  {
   "cell_type": "markdown",
   "id": "408ed61c",
   "metadata": {},
   "source": [
    "## Data cleaning \n",
    "    - drop the duplicates of the datesets first\n",
    "    - check for data types and correct any errors in their representation\n",
    "    - check null values and impute them using mean/ median strategy where appropriate\n",
    "    - check for outliers in the dataset \n",
    "        develop boxplots for numerical features to identify feature with extreme outliers\n",
    "        clamp on the outliers"
   ]
  },
  {
   "cell_type": "code",
   "execution_count": 44,
   "id": "0eb45e63",
   "metadata": {},
   "outputs": [
    {
     "name": "stdout",
     "output_type": "stream",
     "text": [
      "train dataset shape: (58645, 12)\n"
     ]
    }
   ],
   "source": [
    "# drop duplicates \n",
    "train = train.drop_duplicates()\n",
    "print('train dataset shape:', train.shape)"
   ]
  },
  {
   "cell_type": "code",
   "execution_count": 45,
   "id": "6f0af83f",
   "metadata": {},
   "outputs": [
    {
     "name": "stdout",
     "output_type": "stream",
     "text": [
      "<class 'pandas.core.frame.DataFrame'>\n",
      "Index: 58645 entries, 0 to 58644\n",
      "Data columns (total 12 columns):\n",
      " #   Column                      Non-Null Count  Dtype  \n",
      "---  ------                      --------------  -----  \n",
      " 0   person_age                  58645 non-null  int64  \n",
      " 1   person_income               58645 non-null  int64  \n",
      " 2   person_home_ownership       58645 non-null  object \n",
      " 3   person_emp_length           58645 non-null  float64\n",
      " 4   loan_intent                 58645 non-null  object \n",
      " 5   loan_grade                  58645 non-null  object \n",
      " 6   loan_amnt                   58645 non-null  int64  \n",
      " 7   loan_int_rate               58645 non-null  float64\n",
      " 8   loan_percent_income         58645 non-null  float64\n",
      " 9   cb_person_default_on_file   58645 non-null  object \n",
      " 10  cb_person_cred_hist_length  58645 non-null  int64  \n",
      " 11  loan_status                 58645 non-null  int64  \n",
      "dtypes: float64(3), int64(5), object(4)\n",
      "memory usage: 5.8+ MB\n"
     ]
    }
   ],
   "source": [
    "# check for data types and null values\n",
    "train.info()"
   ]
  },
  {
   "cell_type": "code",
   "execution_count": 46,
   "id": "030543b0",
   "metadata": {},
   "outputs": [
    {
     "data": {
      "application/vnd.microsoft.datawrangler.viewer.v0+json": {
       "columns": [
        {
         "name": "id",
         "rawType": "int64",
         "type": "integer"
        },
        {
         "name": "person_age",
         "rawType": "int64",
         "type": "integer"
        },
        {
         "name": "person_income",
         "rawType": "int64",
         "type": "integer"
        },
        {
         "name": "person_home_ownership",
         "rawType": "object",
         "type": "string"
        },
        {
         "name": "person_emp_length",
         "rawType": "float64",
         "type": "float"
        },
        {
         "name": "loan_intent",
         "rawType": "object",
         "type": "string"
        },
        {
         "name": "loan_grade",
         "rawType": "object",
         "type": "string"
        },
        {
         "name": "loan_amnt",
         "rawType": "int64",
         "type": "integer"
        },
        {
         "name": "loan_int_rate",
         "rawType": "float64",
         "type": "float"
        },
        {
         "name": "loan_percent_income",
         "rawType": "float64",
         "type": "float"
        },
        {
         "name": "cb_person_default_on_file",
         "rawType": "object",
         "type": "string"
        },
        {
         "name": "cb_person_cred_hist_length",
         "rawType": "int64",
         "type": "integer"
        },
        {
         "name": "loan_status",
         "rawType": "int64",
         "type": "integer"
        }
       ],
       "ref": "0eab01b1-d61c-4ce5-b113-3e7da27a8f14",
       "rows": [
        [
         "0",
         "37",
         "35000",
         "RENT",
         "0.0",
         "EDUCATION",
         "B",
         "6000",
         "11.49",
         "0.17",
         "N",
         "14",
         "0"
        ],
        [
         "1",
         "22",
         "56000",
         "OWN",
         "6.0",
         "MEDICAL",
         "C",
         "4000",
         "13.35",
         "0.07",
         "N",
         "2",
         "0"
        ],
        [
         "2",
         "29",
         "28800",
         "OWN",
         "8.0",
         "PERSONAL",
         "A",
         "6000",
         "8.9",
         "0.21",
         "N",
         "10",
         "0"
        ],
        [
         "3",
         "30",
         "70000",
         "RENT",
         "14.0",
         "VENTURE",
         "B",
         "12000",
         "11.11",
         "0.17",
         "N",
         "5",
         "0"
        ],
        [
         "4",
         "22",
         "60000",
         "RENT",
         "2.0",
         "MEDICAL",
         "A",
         "6000",
         "6.92",
         "0.1",
         "N",
         "3",
         "0"
        ],
        [
         "5",
         "27",
         "45000",
         "RENT",
         "2.0",
         "VENTURE",
         "A",
         "9000",
         "8.94",
         "0.2",
         "N",
         "5",
         "0"
        ],
        [
         "6",
         "25",
         "45000",
         "MORTGAGE",
         "9.0",
         "EDUCATION",
         "A",
         "12000",
         "6.54",
         "0.27",
         "N",
         "3",
         "0"
        ],
        [
         "7",
         "21",
         "20000",
         "RENT",
         "0.0",
         "PERSONAL",
         "C",
         "2500",
         "13.49",
         "0.13",
         "Y",
         "3",
         "0"
        ],
        [
         "8",
         "37",
         "69600",
         "RENT",
         "11.0",
         "EDUCATION",
         "D",
         "5000",
         "14.84",
         "0.07",
         "Y",
         "11",
         "0"
        ],
        [
         "9",
         "35",
         "110000",
         "MORTGAGE",
         "0.0",
         "DEBTCONSOLIDATION",
         "C",
         "15000",
         "12.98",
         "0.14",
         "Y",
         "6",
         "0"
        ]
       ],
       "shape": {
        "columns": 12,
        "rows": 10
       }
      },
      "text/html": [
       "<div>\n",
       "<style scoped>\n",
       "    .dataframe tbody tr th:only-of-type {\n",
       "        vertical-align: middle;\n",
       "    }\n",
       "\n",
       "    .dataframe tbody tr th {\n",
       "        vertical-align: top;\n",
       "    }\n",
       "\n",
       "    .dataframe thead th {\n",
       "        text-align: right;\n",
       "    }\n",
       "</style>\n",
       "<table border=\"1\" class=\"dataframe\">\n",
       "  <thead>\n",
       "    <tr style=\"text-align: right;\">\n",
       "      <th></th>\n",
       "      <th>person_age</th>\n",
       "      <th>person_income</th>\n",
       "      <th>person_home_ownership</th>\n",
       "      <th>person_emp_length</th>\n",
       "      <th>loan_intent</th>\n",
       "      <th>loan_grade</th>\n",
       "      <th>loan_amnt</th>\n",
       "      <th>loan_int_rate</th>\n",
       "      <th>loan_percent_income</th>\n",
       "      <th>cb_person_default_on_file</th>\n",
       "      <th>cb_person_cred_hist_length</th>\n",
       "      <th>loan_status</th>\n",
       "    </tr>\n",
       "    <tr>\n",
       "      <th>id</th>\n",
       "      <th></th>\n",
       "      <th></th>\n",
       "      <th></th>\n",
       "      <th></th>\n",
       "      <th></th>\n",
       "      <th></th>\n",
       "      <th></th>\n",
       "      <th></th>\n",
       "      <th></th>\n",
       "      <th></th>\n",
       "      <th></th>\n",
       "      <th></th>\n",
       "    </tr>\n",
       "  </thead>\n",
       "  <tbody>\n",
       "    <tr>\n",
       "      <th>0</th>\n",
       "      <td>37</td>\n",
       "      <td>35000</td>\n",
       "      <td>RENT</td>\n",
       "      <td>0.0</td>\n",
       "      <td>EDUCATION</td>\n",
       "      <td>B</td>\n",
       "      <td>6000</td>\n",
       "      <td>11.49</td>\n",
       "      <td>0.17</td>\n",
       "      <td>N</td>\n",
       "      <td>14</td>\n",
       "      <td>0</td>\n",
       "    </tr>\n",
       "    <tr>\n",
       "      <th>1</th>\n",
       "      <td>22</td>\n",
       "      <td>56000</td>\n",
       "      <td>OWN</td>\n",
       "      <td>6.0</td>\n",
       "      <td>MEDICAL</td>\n",
       "      <td>C</td>\n",
       "      <td>4000</td>\n",
       "      <td>13.35</td>\n",
       "      <td>0.07</td>\n",
       "      <td>N</td>\n",
       "      <td>2</td>\n",
       "      <td>0</td>\n",
       "    </tr>\n",
       "    <tr>\n",
       "      <th>2</th>\n",
       "      <td>29</td>\n",
       "      <td>28800</td>\n",
       "      <td>OWN</td>\n",
       "      <td>8.0</td>\n",
       "      <td>PERSONAL</td>\n",
       "      <td>A</td>\n",
       "      <td>6000</td>\n",
       "      <td>8.90</td>\n",
       "      <td>0.21</td>\n",
       "      <td>N</td>\n",
       "      <td>10</td>\n",
       "      <td>0</td>\n",
       "    </tr>\n",
       "    <tr>\n",
       "      <th>3</th>\n",
       "      <td>30</td>\n",
       "      <td>70000</td>\n",
       "      <td>RENT</td>\n",
       "      <td>14.0</td>\n",
       "      <td>VENTURE</td>\n",
       "      <td>B</td>\n",
       "      <td>12000</td>\n",
       "      <td>11.11</td>\n",
       "      <td>0.17</td>\n",
       "      <td>N</td>\n",
       "      <td>5</td>\n",
       "      <td>0</td>\n",
       "    </tr>\n",
       "    <tr>\n",
       "      <th>4</th>\n",
       "      <td>22</td>\n",
       "      <td>60000</td>\n",
       "      <td>RENT</td>\n",
       "      <td>2.0</td>\n",
       "      <td>MEDICAL</td>\n",
       "      <td>A</td>\n",
       "      <td>6000</td>\n",
       "      <td>6.92</td>\n",
       "      <td>0.10</td>\n",
       "      <td>N</td>\n",
       "      <td>3</td>\n",
       "      <td>0</td>\n",
       "    </tr>\n",
       "    <tr>\n",
       "      <th>5</th>\n",
       "      <td>27</td>\n",
       "      <td>45000</td>\n",
       "      <td>RENT</td>\n",
       "      <td>2.0</td>\n",
       "      <td>VENTURE</td>\n",
       "      <td>A</td>\n",
       "      <td>9000</td>\n",
       "      <td>8.94</td>\n",
       "      <td>0.20</td>\n",
       "      <td>N</td>\n",
       "      <td>5</td>\n",
       "      <td>0</td>\n",
       "    </tr>\n",
       "    <tr>\n",
       "      <th>6</th>\n",
       "      <td>25</td>\n",
       "      <td>45000</td>\n",
       "      <td>MORTGAGE</td>\n",
       "      <td>9.0</td>\n",
       "      <td>EDUCATION</td>\n",
       "      <td>A</td>\n",
       "      <td>12000</td>\n",
       "      <td>6.54</td>\n",
       "      <td>0.27</td>\n",
       "      <td>N</td>\n",
       "      <td>3</td>\n",
       "      <td>0</td>\n",
       "    </tr>\n",
       "    <tr>\n",
       "      <th>7</th>\n",
       "      <td>21</td>\n",
       "      <td>20000</td>\n",
       "      <td>RENT</td>\n",
       "      <td>0.0</td>\n",
       "      <td>PERSONAL</td>\n",
       "      <td>C</td>\n",
       "      <td>2500</td>\n",
       "      <td>13.49</td>\n",
       "      <td>0.13</td>\n",
       "      <td>Y</td>\n",
       "      <td>3</td>\n",
       "      <td>0</td>\n",
       "    </tr>\n",
       "    <tr>\n",
       "      <th>8</th>\n",
       "      <td>37</td>\n",
       "      <td>69600</td>\n",
       "      <td>RENT</td>\n",
       "      <td>11.0</td>\n",
       "      <td>EDUCATION</td>\n",
       "      <td>D</td>\n",
       "      <td>5000</td>\n",
       "      <td>14.84</td>\n",
       "      <td>0.07</td>\n",
       "      <td>Y</td>\n",
       "      <td>11</td>\n",
       "      <td>0</td>\n",
       "    </tr>\n",
       "    <tr>\n",
       "      <th>9</th>\n",
       "      <td>35</td>\n",
       "      <td>110000</td>\n",
       "      <td>MORTGAGE</td>\n",
       "      <td>0.0</td>\n",
       "      <td>DEBTCONSOLIDATION</td>\n",
       "      <td>C</td>\n",
       "      <td>15000</td>\n",
       "      <td>12.98</td>\n",
       "      <td>0.14</td>\n",
       "      <td>Y</td>\n",
       "      <td>6</td>\n",
       "      <td>0</td>\n",
       "    </tr>\n",
       "  </tbody>\n",
       "</table>\n",
       "</div>"
      ],
      "text/plain": [
       "    person_age  person_income  ... cb_person_cred_hist_length  loan_status\n",
       "id                             ...                                        \n",
       "0           37          35000  ...                         14            0\n",
       "1           22          56000  ...                          2            0\n",
       "2           29          28800  ...                         10            0\n",
       "3           30          70000  ...                          5            0\n",
       "4           22          60000  ...                          3            0\n",
       "5           27          45000  ...                          5            0\n",
       "6           25          45000  ...                          3            0\n",
       "7           21          20000  ...                          3            0\n",
       "8           37          69600  ...                         11            0\n",
       "9           35         110000  ...                          6            0\n",
       "\n",
       "[10 rows x 12 columns]"
      ]
     },
     "execution_count": 46,
     "metadata": {},
     "output_type": "execute_result"
    }
   ],
   "source": [
    "train.head(10)"
   ]
  },
  {
   "cell_type": "code",
   "execution_count": null,
   "id": "beacf9b6",
   "metadata": {},
   "outputs": [],
   "source": [
    "# box plot for features "
   ]
  },
  {
   "cell_type": "code",
   "execution_count": null,
   "id": "93e16afc",
   "metadata": {},
   "outputs": [],
   "source": [
    "# check for and clamp on outliers (strategy = mean)\n",
    "def clamp_outliers(data):\n",
    "    for col in data.columns:\n",
    "        q1 = col.quantile[0.25]\n",
    "        q3 = col.quantile[0.75]\n",
    "        iqr = q3 - q1\n",
    "        \n"
   ]
  },
  {
   "cell_type": "markdown",
   "id": "426b03cd",
   "metadata": {},
   "source": [
    "## Exploratory Analysis\n",
    "    - summary statistics of the dataset\n",
    "    - value counts distribution for object features\n",
    "    - distribution of numerical features"
   ]
  },
  {
   "cell_type": "code",
   "execution_count": 47,
   "id": "8f4bfad9",
   "metadata": {},
   "outputs": [
    {
     "data": {
      "application/vnd.microsoft.datawrangler.viewer.v0+json": {
       "columns": [
        {
         "name": "index",
         "rawType": "object",
         "type": "string"
        },
        {
         "name": "person_age",
         "rawType": "float64",
         "type": "float"
        },
        {
         "name": "person_income",
         "rawType": "float64",
         "type": "float"
        },
        {
         "name": "person_emp_length",
         "rawType": "float64",
         "type": "float"
        },
        {
         "name": "loan_amnt",
         "rawType": "float64",
         "type": "float"
        },
        {
         "name": "loan_int_rate",
         "rawType": "float64",
         "type": "float"
        },
        {
         "name": "loan_percent_income",
         "rawType": "float64",
         "type": "float"
        },
        {
         "name": "cb_person_cred_hist_length",
         "rawType": "float64",
         "type": "float"
        },
        {
         "name": "loan_status",
         "rawType": "float64",
         "type": "float"
        }
       ],
       "ref": "c531b812-1eba-4912-ac38-bfb3c143cdbd",
       "rows": [
        [
         "count",
         "58645.0",
         "58645.0",
         "58645.0",
         "58645.0",
         "58645.0",
         "58645.0",
         "58645.0",
         "58645.0"
        ],
        [
         "mean",
         "27.55",
         "64046.17",
         "4.7",
         "9217.56",
         "10.68",
         "0.16",
         "5.81",
         "0.14"
        ],
        [
         "std",
         "6.03",
         "37931.11",
         "3.96",
         "5563.81",
         "3.03",
         "0.09",
         "4.03",
         "0.35"
        ],
        [
         "min",
         "20.0",
         "4200.0",
         "0.0",
         "500.0",
         "5.42",
         "0.0",
         "2.0",
         "0.0"
        ],
        [
         "25%",
         "23.0",
         "42000.0",
         "2.0",
         "5000.0",
         "7.88",
         "0.09",
         "3.0",
         "0.0"
        ],
        [
         "50%",
         "26.0",
         "58000.0",
         "4.0",
         "8000.0",
         "10.75",
         "0.14",
         "4.0",
         "0.0"
        ],
        [
         "75%",
         "30.0",
         "75600.0",
         "7.0",
         "12000.0",
         "12.99",
         "0.21",
         "8.0",
         "0.0"
        ],
        [
         "max",
         "123.0",
         "1900000.0",
         "123.0",
         "35000.0",
         "23.22",
         "0.83",
         "30.0",
         "1.0"
        ]
       ],
       "shape": {
        "columns": 8,
        "rows": 8
       }
      },
      "text/html": [
       "<div>\n",
       "<style scoped>\n",
       "    .dataframe tbody tr th:only-of-type {\n",
       "        vertical-align: middle;\n",
       "    }\n",
       "\n",
       "    .dataframe tbody tr th {\n",
       "        vertical-align: top;\n",
       "    }\n",
       "\n",
       "    .dataframe thead th {\n",
       "        text-align: right;\n",
       "    }\n",
       "</style>\n",
       "<table border=\"1\" class=\"dataframe\">\n",
       "  <thead>\n",
       "    <tr style=\"text-align: right;\">\n",
       "      <th></th>\n",
       "      <th>person_age</th>\n",
       "      <th>person_income</th>\n",
       "      <th>person_emp_length</th>\n",
       "      <th>loan_amnt</th>\n",
       "      <th>loan_int_rate</th>\n",
       "      <th>loan_percent_income</th>\n",
       "      <th>cb_person_cred_hist_length</th>\n",
       "      <th>loan_status</th>\n",
       "    </tr>\n",
       "  </thead>\n",
       "  <tbody>\n",
       "    <tr>\n",
       "      <th>count</th>\n",
       "      <td>58645.00</td>\n",
       "      <td>58645.00</td>\n",
       "      <td>58645.00</td>\n",
       "      <td>58645.00</td>\n",
       "      <td>58645.00</td>\n",
       "      <td>58645.00</td>\n",
       "      <td>58645.00</td>\n",
       "      <td>58645.00</td>\n",
       "    </tr>\n",
       "    <tr>\n",
       "      <th>mean</th>\n",
       "      <td>27.55</td>\n",
       "      <td>64046.17</td>\n",
       "      <td>4.70</td>\n",
       "      <td>9217.56</td>\n",
       "      <td>10.68</td>\n",
       "      <td>0.16</td>\n",
       "      <td>5.81</td>\n",
       "      <td>0.14</td>\n",
       "    </tr>\n",
       "    <tr>\n",
       "      <th>std</th>\n",
       "      <td>6.03</td>\n",
       "      <td>37931.11</td>\n",
       "      <td>3.96</td>\n",
       "      <td>5563.81</td>\n",
       "      <td>3.03</td>\n",
       "      <td>0.09</td>\n",
       "      <td>4.03</td>\n",
       "      <td>0.35</td>\n",
       "    </tr>\n",
       "    <tr>\n",
       "      <th>min</th>\n",
       "      <td>20.00</td>\n",
       "      <td>4200.00</td>\n",
       "      <td>0.00</td>\n",
       "      <td>500.00</td>\n",
       "      <td>5.42</td>\n",
       "      <td>0.00</td>\n",
       "      <td>2.00</td>\n",
       "      <td>0.00</td>\n",
       "    </tr>\n",
       "    <tr>\n",
       "      <th>25%</th>\n",
       "      <td>23.00</td>\n",
       "      <td>42000.00</td>\n",
       "      <td>2.00</td>\n",
       "      <td>5000.00</td>\n",
       "      <td>7.88</td>\n",
       "      <td>0.09</td>\n",
       "      <td>3.00</td>\n",
       "      <td>0.00</td>\n",
       "    </tr>\n",
       "    <tr>\n",
       "      <th>50%</th>\n",
       "      <td>26.00</td>\n",
       "      <td>58000.00</td>\n",
       "      <td>4.00</td>\n",
       "      <td>8000.00</td>\n",
       "      <td>10.75</td>\n",
       "      <td>0.14</td>\n",
       "      <td>4.00</td>\n",
       "      <td>0.00</td>\n",
       "    </tr>\n",
       "    <tr>\n",
       "      <th>75%</th>\n",
       "      <td>30.00</td>\n",
       "      <td>75600.00</td>\n",
       "      <td>7.00</td>\n",
       "      <td>12000.00</td>\n",
       "      <td>12.99</td>\n",
       "      <td>0.21</td>\n",
       "      <td>8.00</td>\n",
       "      <td>0.00</td>\n",
       "    </tr>\n",
       "    <tr>\n",
       "      <th>max</th>\n",
       "      <td>123.00</td>\n",
       "      <td>1900000.00</td>\n",
       "      <td>123.00</td>\n",
       "      <td>35000.00</td>\n",
       "      <td>23.22</td>\n",
       "      <td>0.83</td>\n",
       "      <td>30.00</td>\n",
       "      <td>1.00</td>\n",
       "    </tr>\n",
       "  </tbody>\n",
       "</table>\n",
       "</div>"
      ],
      "text/plain": [
       "       person_age  person_income  ...  cb_person_cred_hist_length  loan_status\n",
       "count    58645.00       58645.00  ...                    58645.00     58645.00\n",
       "mean        27.55       64046.17  ...                        5.81         0.14\n",
       "std          6.03       37931.11  ...                        4.03         0.35\n",
       "min         20.00        4200.00  ...                        2.00         0.00\n",
       "25%         23.00       42000.00  ...                        3.00         0.00\n",
       "50%         26.00       58000.00  ...                        4.00         0.00\n",
       "75%         30.00       75600.00  ...                        8.00         0.00\n",
       "max        123.00     1900000.00  ...                       30.00         1.00\n",
       "\n",
       "[8 rows x 8 columns]"
      ]
     },
     "execution_count": 47,
     "metadata": {},
     "output_type": "execute_result"
    }
   ],
   "source": [
    "# summary statistics \n",
    "round(train.describe(), 2)"
   ]
  },
  {
   "cell_type": "code",
   "execution_count": null,
   "id": "ca187157",
   "metadata": {},
   "outputs": [],
   "source": []
  },
  {
   "cell_type": "code",
   "execution_count": null,
   "metadata": {},
   "outputs": [],
   "source": []
  },
  {
   "cell_type": "code",
   "execution_count": null,
   "metadata": {},
   "outputs": [],
   "source": []
  },
  {
   "cell_type": "code",
   "execution_count": null,
   "metadata": {},
   "outputs": [],
   "source": []
  },
  {
   "cell_type": "code",
   "execution_count": null,
   "metadata": {},
   "outputs": [],
   "source": []
  },
  {
   "cell_type": "code",
   "execution_count": null,
   "metadata": {},
   "outputs": [],
   "source": []
  },
  {
   "cell_type": "code",
   "execution_count": null,
   "metadata": {},
   "outputs": [],
   "source": []
  },
  {
   "cell_type": "markdown",
   "id": "4847ad0d",
   "metadata": {},
   "source": [
    "# Feature Engineering"
   ]
  },
  {
   "cell_type": "code",
   "execution_count": null,
   "metadata": {},
   "outputs": [],
   "source": []
  },
  {
   "cell_type": "code",
   "execution_count": null,
   "metadata": {},
   "outputs": [],
   "source": []
  },
  {
   "cell_type": "code",
   "execution_count": null,
   "metadata": {},
   "outputs": [],
   "source": []
  },
  {
   "cell_type": "code",
   "execution_count": null,
   "metadata": {},
   "outputs": [],
   "source": []
  },
  {
   "cell_type": "code",
   "execution_count": null,
   "id": "4e3febc5",
   "metadata": {},
   "outputs": [],
   "source": []
  },
  {
   "cell_type": "code",
   "execution_count": null,
   "id": "dfb37c2b",
   "metadata": {},
   "outputs": [],
   "source": []
  },
  {
   "cell_type": "markdown",
   "id": "c789909d",
   "metadata": {},
   "source": [
    "## Model training \n",
    "\n",
    "1. RandomForestRegressor\n",
    "    - check for correlation\n",
    "    - \n",
    "\n",
    "2. RandomForestClassifier"
   ]
  }
 ],
 "metadata": {
  "kernelspec": {
   "display_name": "Python 3",
   "language": "python",
   "name": "python3"
  },
  "language_info": {
   "codemirror_mode": {
    "name": "ipython",
    "version": 3
   },
   "file_extension": ".py",
   "mimetype": "text/x-python",
   "name": "python",
   "nbconvert_exporter": "python",
   "pygments_lexer": "ipython3",
   "version": "3.13.0"
  }
 },
 "nbformat": 4,
 "nbformat_minor": 5
}
