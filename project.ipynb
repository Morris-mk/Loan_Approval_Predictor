{
 "cells": [
  {
   "cell_type": "markdown",
   "id": "b365fa23",
   "metadata": {},
   "source": [
    "## Load Data and dependencies"
   ]
  },
  {
   "cell_type": "code",
   "execution_count": 1,
   "id": "9169948b",
   "metadata": {},
   "outputs": [],
   "source": [
    "# import libraries\n",
    "import pandas as pd\n",
    "import numpy as np\n",
    "import matplotlib.pyplot as plt\n",
    "import seaborn as sns\n",
    "\n",
    "from sklearn.preprocessing import StandardScaler, OneHotEncoder\n",
    "from sklearn.model_selection import train_test_split\n",
    "from sklearn.ensemble import RandomForestRegressor, RandomForestClassifier\n",
    "\n"
   ]
  },
  {
   "cell_type": "code",
   "execution_count": 2,
   "id": "346f11a7",
   "metadata": {},
   "outputs": [],
   "source": [
    "# load the datasets\n",
    "train = pd.read_csv(r\"C:\\Users\\Morinyo Baddestman\\Documents\\playground-series-s4e10\\train.csv\", index_col=0)"
   ]
  },
  {
   "cell_type": "code",
   "execution_count": 3,
   "id": "abab3c53",
   "metadata": {},
   "outputs": [
    {
     "data": {
      "application/vnd.microsoft.datawrangler.viewer.v0+json": {
       "columns": [
        {
         "name": "id",
         "rawType": "int64",
         "type": "integer"
        },
        {
         "name": "person_age",
         "rawType": "int64",
         "type": "integer"
        },
        {
         "name": "person_income",
         "rawType": "int64",
         "type": "integer"
        },
        {
         "name": "person_home_ownership",
         "rawType": "object",
         "type": "string"
        },
        {
         "name": "person_emp_length",
         "rawType": "float64",
         "type": "float"
        },
        {
         "name": "loan_intent",
         "rawType": "object",
         "type": "string"
        },
        {
         "name": "loan_grade",
         "rawType": "object",
         "type": "string"
        },
        {
         "name": "loan_amnt",
         "rawType": "int64",
         "type": "integer"
        },
        {
         "name": "loan_int_rate",
         "rawType": "float64",
         "type": "float"
        },
        {
         "name": "loan_percent_income",
         "rawType": "float64",
         "type": "float"
        },
        {
         "name": "cb_person_default_on_file",
         "rawType": "object",
         "type": "string"
        },
        {
         "name": "cb_person_cred_hist_length",
         "rawType": "int64",
         "type": "integer"
        },
        {
         "name": "loan_status",
         "rawType": "int64",
         "type": "integer"
        }
       ],
       "ref": "e881c698-e81a-4c92-8a50-26d2fe3600ef",
       "rows": [
        [
         "0",
         "37",
         "35000",
         "RENT",
         "0.0",
         "EDUCATION",
         "B",
         "6000",
         "11.49",
         "0.17",
         "N",
         "14",
         "0"
        ],
        [
         "1",
         "22",
         "56000",
         "OWN",
         "6.0",
         "MEDICAL",
         "C",
         "4000",
         "13.35",
         "0.07",
         "N",
         "2",
         "0"
        ],
        [
         "2",
         "29",
         "28800",
         "OWN",
         "8.0",
         "PERSONAL",
         "A",
         "6000",
         "8.9",
         "0.21",
         "N",
         "10",
         "0"
        ],
        [
         "3",
         "30",
         "70000",
         "RENT",
         "14.0",
         "VENTURE",
         "B",
         "12000",
         "11.11",
         "0.17",
         "N",
         "5",
         "0"
        ],
        [
         "4",
         "22",
         "60000",
         "RENT",
         "2.0",
         "MEDICAL",
         "A",
         "6000",
         "6.92",
         "0.1",
         "N",
         "3",
         "0"
        ]
       ],
       "shape": {
        "columns": 12,
        "rows": 5
       }
      },
      "text/html": [
       "<div>\n",
       "<style scoped>\n",
       "    .dataframe tbody tr th:only-of-type {\n",
       "        vertical-align: middle;\n",
       "    }\n",
       "\n",
       "    .dataframe tbody tr th {\n",
       "        vertical-align: top;\n",
       "    }\n",
       "\n",
       "    .dataframe thead th {\n",
       "        text-align: right;\n",
       "    }\n",
       "</style>\n",
       "<table border=\"1\" class=\"dataframe\">\n",
       "  <thead>\n",
       "    <tr style=\"text-align: right;\">\n",
       "      <th></th>\n",
       "      <th>person_age</th>\n",
       "      <th>person_income</th>\n",
       "      <th>person_home_ownership</th>\n",
       "      <th>person_emp_length</th>\n",
       "      <th>loan_intent</th>\n",
       "      <th>loan_grade</th>\n",
       "      <th>loan_amnt</th>\n",
       "      <th>loan_int_rate</th>\n",
       "      <th>loan_percent_income</th>\n",
       "      <th>cb_person_default_on_file</th>\n",
       "      <th>cb_person_cred_hist_length</th>\n",
       "      <th>loan_status</th>\n",
       "    </tr>\n",
       "    <tr>\n",
       "      <th>id</th>\n",
       "      <th></th>\n",
       "      <th></th>\n",
       "      <th></th>\n",
       "      <th></th>\n",
       "      <th></th>\n",
       "      <th></th>\n",
       "      <th></th>\n",
       "      <th></th>\n",
       "      <th></th>\n",
       "      <th></th>\n",
       "      <th></th>\n",
       "      <th></th>\n",
       "    </tr>\n",
       "  </thead>\n",
       "  <tbody>\n",
       "    <tr>\n",
       "      <th>0</th>\n",
       "      <td>37</td>\n",
       "      <td>35000</td>\n",
       "      <td>RENT</td>\n",
       "      <td>0.0</td>\n",
       "      <td>EDUCATION</td>\n",
       "      <td>B</td>\n",
       "      <td>6000</td>\n",
       "      <td>11.49</td>\n",
       "      <td>0.17</td>\n",
       "      <td>N</td>\n",
       "      <td>14</td>\n",
       "      <td>0</td>\n",
       "    </tr>\n",
       "    <tr>\n",
       "      <th>1</th>\n",
       "      <td>22</td>\n",
       "      <td>56000</td>\n",
       "      <td>OWN</td>\n",
       "      <td>6.0</td>\n",
       "      <td>MEDICAL</td>\n",
       "      <td>C</td>\n",
       "      <td>4000</td>\n",
       "      <td>13.35</td>\n",
       "      <td>0.07</td>\n",
       "      <td>N</td>\n",
       "      <td>2</td>\n",
       "      <td>0</td>\n",
       "    </tr>\n",
       "    <tr>\n",
       "      <th>2</th>\n",
       "      <td>29</td>\n",
       "      <td>28800</td>\n",
       "      <td>OWN</td>\n",
       "      <td>8.0</td>\n",
       "      <td>PERSONAL</td>\n",
       "      <td>A</td>\n",
       "      <td>6000</td>\n",
       "      <td>8.90</td>\n",
       "      <td>0.21</td>\n",
       "      <td>N</td>\n",
       "      <td>10</td>\n",
       "      <td>0</td>\n",
       "    </tr>\n",
       "    <tr>\n",
       "      <th>3</th>\n",
       "      <td>30</td>\n",
       "      <td>70000</td>\n",
       "      <td>RENT</td>\n",
       "      <td>14.0</td>\n",
       "      <td>VENTURE</td>\n",
       "      <td>B</td>\n",
       "      <td>12000</td>\n",
       "      <td>11.11</td>\n",
       "      <td>0.17</td>\n",
       "      <td>N</td>\n",
       "      <td>5</td>\n",
       "      <td>0</td>\n",
       "    </tr>\n",
       "    <tr>\n",
       "      <th>4</th>\n",
       "      <td>22</td>\n",
       "      <td>60000</td>\n",
       "      <td>RENT</td>\n",
       "      <td>2.0</td>\n",
       "      <td>MEDICAL</td>\n",
       "      <td>A</td>\n",
       "      <td>6000</td>\n",
       "      <td>6.92</td>\n",
       "      <td>0.10</td>\n",
       "      <td>N</td>\n",
       "      <td>3</td>\n",
       "      <td>0</td>\n",
       "    </tr>\n",
       "  </tbody>\n",
       "</table>\n",
       "</div>"
      ],
      "text/plain": [
       "    person_age  person_income person_home_ownership  person_emp_length  \\\n",
       "id                                                                       \n",
       "0           37          35000                  RENT                0.0   \n",
       "1           22          56000                   OWN                6.0   \n",
       "2           29          28800                   OWN                8.0   \n",
       "3           30          70000                  RENT               14.0   \n",
       "4           22          60000                  RENT                2.0   \n",
       "\n",
       "   loan_intent loan_grade  loan_amnt  loan_int_rate  loan_percent_income  \\\n",
       "id                                                                         \n",
       "0    EDUCATION          B       6000          11.49                 0.17   \n",
       "1      MEDICAL          C       4000          13.35                 0.07   \n",
       "2     PERSONAL          A       6000           8.90                 0.21   \n",
       "3      VENTURE          B      12000          11.11                 0.17   \n",
       "4      MEDICAL          A       6000           6.92                 0.10   \n",
       "\n",
       "   cb_person_default_on_file  cb_person_cred_hist_length  loan_status  \n",
       "id                                                                     \n",
       "0                          N                          14            0  \n",
       "1                          N                           2            0  \n",
       "2                          N                          10            0  \n",
       "3                          N                           5            0  \n",
       "4                          N                           3            0  "
      ]
     },
     "execution_count": 3,
     "metadata": {},
     "output_type": "execute_result"
    }
   ],
   "source": [
    "train.head()"
   ]
  },
  {
   "cell_type": "code",
   "execution_count": 4,
   "id": "7a3455bc",
   "metadata": {},
   "outputs": [
    {
     "name": "stdout",
     "output_type": "stream",
     "text": [
      "train dataset shape: (58645, 12)\n"
     ]
    }
   ],
   "source": [
    "# check shape\n",
    "print('train dataset shape:', train.shape)"
   ]
  },
  {
   "cell_type": "code",
   "execution_count": null,
   "id": "3ba46b46",
   "metadata": {},
   "outputs": [
    {
     "data": {
      "text/plain": [
       "Index(['person_age', 'person_income', 'person_home_ownership',\n",
       "       'person_emp_length', 'loan_intent', 'loan_grade', 'loan_amnt',\n",
       "       'loan_int_rate', 'loan_percent_income', 'cb_person_default_on_file',\n",
       "       'cb_person_cred_hist_length', 'loan_status'],\n",
       "      dtype='object')"
      ]
     },
     "execution_count": 9,
     "metadata": {},
     "output_type": "execute_result"
    }
   ],
   "source": [
    "# print the dataset features\n",
    "train.columns"
   ]
  },
  {
   "cell_type": "markdown",
   "id": "408ed61c",
   "metadata": {},
   "source": [
    "## Data cleaning \n",
    "    - drop the duplicates of the datesets first\n",
    "    - check for data types and correct any errors in their representation\n",
    "    - check null values and impute them using mean/ median strategy where appropriate\n",
    "    - check for outliers in the dataset \n",
    "        develop boxplots for numerical features to identify feature with extreme outliers\n",
    "        clamp on the outliers"
   ]
  },
  {
   "cell_type": "code",
   "execution_count": null,
   "id": "ff28e49c",
   "metadata": {},
   "outputs": [
    {
     "data": {
      "application/vnd.microsoft.datawrangler.viewer.v0+json": {
       "columns": [
        {
         "name": "index",
         "rawType": "object",
         "type": "string"
        },
        {
         "name": "0",
         "rawType": "int64",
         "type": "integer"
        }
       ],
       "ref": "bc156c12-674c-4c1e-a33d-222b322795f0",
       "rows": [
        [
         "person_age",
         "0"
        ],
        [
         "person_income",
         "0"
        ],
        [
         "person_home_ownership",
         "0"
        ],
        [
         "person_emp_length",
         "0"
        ],
        [
         "loan_intent",
         "0"
        ],
        [
         "loan_grade",
         "0"
        ],
        [
         "loan_amnt",
         "0"
        ],
        [
         "loan_int_rate",
         "0"
        ],
        [
         "loan_percent_income",
         "0"
        ],
        [
         "cb_person_default_on_file",
         "0"
        ],
        [
         "cb_person_cred_hist_length",
         "0"
        ],
        [
         "loan_status",
         "0"
        ]
       ],
       "shape": {
        "columns": 1,
        "rows": 12
       }
      },
      "text/plain": [
       "person_age                    0\n",
       "person_income                 0\n",
       "person_home_ownership         0\n",
       "person_emp_length             0\n",
       "loan_intent                   0\n",
       "loan_grade                    0\n",
       "loan_amnt                     0\n",
       "loan_int_rate                 0\n",
       "loan_percent_income           0\n",
       "cb_person_default_on_file     0\n",
       "cb_person_cred_hist_length    0\n",
       "loan_status                   0\n",
       "dtype: int64"
      ]
     },
     "execution_count": 8,
     "metadata": {},
     "output_type": "execute_result"
    }
   ],
   "source": [
    "# check for nan and null values in the dataset \n",
    "train.isna().sum()"
   ]
  },
  {
   "cell_type": "code",
   "execution_count": null,
   "id": "6f0af83f",
   "metadata": {},
   "outputs": [
    {
     "name": "stdout",
     "output_type": "stream",
     "text": [
      "<class 'pandas.core.frame.DataFrame'>\n",
      "Index: 58645 entries, 0 to 58644\n",
      "Data columns (total 12 columns):\n",
      " #   Column                      Non-Null Count  Dtype  \n",
      "---  ------                      --------------  -----  \n",
      " 0   person_age                  58645 non-null  int64  \n",
      " 1   person_income               58645 non-null  int64  \n",
      " 2   person_home_ownership       58645 non-null  object \n",
      " 3   person_emp_length           58645 non-null  float64\n",
      " 4   loan_intent                 58645 non-null  object \n",
      " 5   loan_grade                  58645 non-null  object \n",
      " 6   loan_amnt                   58645 non-null  int64  \n",
      " 7   loan_int_rate               58645 non-null  float64\n",
      " 8   loan_percent_income         58645 non-null  float64\n",
      " 9   cb_person_default_on_file   58645 non-null  object \n",
      " 10  cb_person_cred_hist_length  58645 non-null  int64  \n",
      " 11  loan_status                 58645 non-null  int64  \n",
      "dtypes: float64(3), int64(5), object(4)\n",
      "memory usage: 5.8+ MB\n"
     ]
    }
   ],
   "source": [
    "# check for data types and confirm if null values exist\n",
    "train.info()"
   ]
  },
  {
   "cell_type": "markdown",
   "id": "1e2bfed1",
   "metadata": {},
   "source": [
    "### Visualize outliers using boxplots\n",
    "    - identify outliers if any in the boxplots\n",
    "    - create a function to remove outliers in the dataset using IQR method"
   ]
  },
  {
   "cell_type": "code",
   "execution_count": null,
   "id": "2bc5c315",
   "metadata": {},
   "outputs": [
    {
     "data": {
      "text/plain": [
       "['person_age',\n",
       " 'person_income',\n",
       " 'person_emp_length',\n",
       " 'loan_amnt',\n",
       " 'loan_int_rate',\n",
       " 'loan_percent_income',\n",
       " 'cb_person_cred_hist_length',\n",
       " 'loan_status']"
      ]
     },
     "execution_count": 25,
     "metadata": {},
     "output_type": "execute_result"
    }
   ],
   "source": [
    "# select the numerical columns in the dataset\n",
    "numerical_columns = [col for col in train.select_dtypes(exclude='object')]\n",
    "numerical_columns"
   ]
  },
  {
   "cell_type": "code",
   "execution_count": 46,
   "id": "beacf9b6",
   "metadata": {},
   "outputs": [
    {
     "data": {
      "image/png": "[encoded data removed]",
      "text/plain": [
       "<Figure size 1000x600 with 1 Axes>"
      ]
     },
     "metadata": {},
     "output_type": "display_data"
    }
   ],
   "source": [
    "# Create a figure with subplots\n",
    "plt.figure(figsize=(10, 6))\n",
    "\n",
    "# Create boxplots for all features\n",
    "sns.boxplot(data=train)\n",
    "\n",
    "# Customize the plot\n",
    "plt.title('Boxplots of Dataset Features')\n",
    "plt.xlabel('Features')\n",
    "plt.ylabel('Values')\n",
    "plt.xticks(rotation=25)  # Rotate feature names for readability\n",
    "\n",
    "# Show the plot\n",
    "plt.tight_layout()\n",
    "plt.show()\n",
    "\n",
    "    "
   ]
  },
  {
   "cell_type": "code",
   "execution_count": 35,
   "id": "93e16afc",
   "metadata": {},
   "outputs": [],
   "source": [
    "# remove outliers \n",
    "\n",
    "def remove_outliers_iqr(df, columns):\n",
    "\n",
    "    # create a copy of the dataset \n",
    "    train_clean = train.copy()\n",
    "    \n",
    "    for col in columns:\n",
    "        q1 = train_clean[col].quantile(0.25)\n",
    "        q3 = train_clean[col].quantile(0.75)\n",
    "        iqr = q3-q1\n",
    "        lower_bound = q1 - 1.5*iqr\n",
    "        upper_bound = q3 + 1.5*iqr\n",
    "\n",
    "        return train_clean[(train_clean[col] >= lower_bound) & (train_clean[col] <= upper_bound)]\n",
    "\n",
    "columns = train.columns    \n",
    "train_clean = remove_outliers_iqr(train, columns)"
   ]
  },
  {
   "cell_type": "code",
   "execution_count": 36,
   "id": "9eaf1860",
   "metadata": {},
   "outputs": [
    {
     "name": "stdout",
     "output_type": "stream",
     "text": [
      "train_shape: (58645, 12)\n",
      "train without outliers shape: (56199, 12)\n"
     ]
    }
   ],
   "source": [
    "print('train_shape:', train.shape)\n",
    "print('train without outliers shape:', train_clean.shape)"
   ]
  },
  {
   "cell_type": "code",
   "execution_count": 45,
   "id": "26b2a243",
   "metadata": {},
   "outputs": [
    {
     "data": {
      "image/png": "[encoded data removed]",
      "text/plain": [
       "<Figure size 1000x600 with 1 Axes>"
      ]
     },
     "metadata": {},
     "output_type": "display_data"
    }
   ],
   "source": [
    "# Create a figure with subplots\n",
    "plt.figure(figsize=(10, 6))\n",
    "\n",
    "# Create boxplots for all features\n",
    "sns.boxplot(data=train_clean)\n",
    "\n",
    "# Customize the plot\n",
    "plt.title('Boxplots of Dataset Features with Outliers Removed')\n",
    "plt.xlabel('Features')\n",
    "plt.ylabel('Values')\n",
    "plt.xticks(rotation=45)  # Rotate feature names for readability\n",
    "\n",
    "# Show the plot\n",
    "plt.tight_layout()\n",
    "plt.show()"
   ]
  },
  {
   "cell_type": "markdown",
   "id": "426b03cd",
   "metadata": {},
   "source": [
    "## Exploratory Analysis\n",
    "    - summary statistics of the dataset\n",
    "    - value counts distribution for object features\n",
    "    - distribution of numerical features"
   ]
  },
  {
   "cell_type": "code",
   "execution_count": 39,
   "id": "8f4bfad9",
   "metadata": {},
   "outputs": [
    {
     "data": {
      "application/vnd.microsoft.datawrangler.viewer.v0+json": {
       "columns": [
        {
         "name": "index",
         "rawType": "object",
         "type": "string"
        },
        {
         "name": "count",
         "rawType": "float64",
         "type": "float"
        },
        {
         "name": "mean",
         "rawType": "float64",
         "type": "float"
        },
        {
         "name": "std",
         "rawType": "float64",
         "type": "float"
        },
        {
         "name": "min",
         "rawType": "float64",
         "type": "float"
        },
        {
         "name": "25%",
         "rawType": "float64",
         "type": "float"
        },
        {
         "name": "50%",
         "rawType": "float64",
         "type": "float"
        },
        {
         "name": "75%",
         "rawType": "float64",
         "type": "float"
        },
        {
         "name": "max",
         "rawType": "float64",
         "type": "float"
        }
       ],
       "ref": "c36f0907-fd9f-43fe-a18f-b08e0c73b6c2",
       "rows": [
        [
         "person_age",
         "58645.0",
         "27.55",
         "6.03",
         "20.0",
         "23.0",
         "26.0",
         "30.0",
         "123.0"
        ],
        [
         "person_income",
         "58645.0",
         "64046.17",
         "37931.11",
         "4200.0",
         "42000.0",
         "58000.0",
         "75600.0",
         "1900000.0"
        ],
        [
         "person_emp_length",
         "58645.0",
         "4.7",
         "3.96",
         "0.0",
         "2.0",
         "4.0",
         "7.0",
         "123.0"
        ],
        [
         "loan_amnt",
         "58645.0",
         "9217.56",
         "5563.81",
         "500.0",
         "5000.0",
         "8000.0",
         "12000.0",
         "35000.0"
        ],
        [
         "loan_int_rate",
         "58645.0",
         "10.68",
         "3.03",
         "5.42",
         "7.88",
         "10.75",
         "12.99",
         "23.22"
        ],
        [
         "loan_percent_income",
         "58645.0",
         "0.16",
         "0.09",
         "0.0",
         "0.09",
         "0.14",
         "0.21",
         "0.83"
        ],
        [
         "cb_person_cred_hist_length",
         "58645.0",
         "5.81",
         "4.03",
         "2.0",
         "3.0",
         "4.0",
         "8.0",
         "30.0"
        ],
        [
         "loan_status",
         "58645.0",
         "0.14",
         "0.35",
         "0.0",
         "0.0",
         "0.0",
         "0.0",
         "1.0"
        ]
       ],
       "shape": {
        "columns": 8,
        "rows": 8
       }
      },
      "text/html": [
       "<div>\n",
       "<style scoped>\n",
       "    .dataframe tbody tr th:only-of-type {\n",
       "        vertical-align: middle;\n",
       "    }\n",
       "\n",
       "    .dataframe tbody tr th {\n",
       "        vertical-align: top;\n",
       "    }\n",
       "\n",
       "    .dataframe thead th {\n",
       "        text-align: right;\n",
       "    }\n",
       "</style>\n",
       "<table border=\"1\" class=\"dataframe\">\n",
       "  <thead>\n",
       "    <tr style=\"text-align: right;\">\n",
       "      <th></th>\n",
       "      <th>count</th>\n",
       "      <th>mean</th>\n",
       "      <th>std</th>\n",
       "      <th>min</th>\n",
       "      <th>25%</th>\n",
       "      <th>50%</th>\n",
       "      <th>75%</th>\n",
       "      <th>max</th>\n",
       "    </tr>\n",
       "  </thead>\n",
       "  <tbody>\n",
       "    <tr>\n",
       "      <th>person_age</th>\n",
       "      <td>58645.0</td>\n",
       "      <td>27.55</td>\n",
       "      <td>6.03</td>\n",
       "      <td>20.00</td>\n",
       "      <td>23.00</td>\n",
       "      <td>26.00</td>\n",
       "      <td>30.00</td>\n",
       "      <td>123.00</td>\n",
       "    </tr>\n",
       "    <tr>\n",
       "      <th>person_income</th>\n",
       "      <td>58645.0</td>\n",
       "      <td>64046.17</td>\n",
       "      <td>37931.11</td>\n",
       "      <td>4200.00</td>\n",
       "      <td>42000.00</td>\n",
       "      <td>58000.00</td>\n",
       "      <td>75600.00</td>\n",
       "      <td>1900000.00</td>\n",
       "    </tr>\n",
       "    <tr>\n",
       "      <th>person_emp_length</th>\n",
       "      <td>58645.0</td>\n",
       "      <td>4.70</td>\n",
       "      <td>3.96</td>\n",
       "      <td>0.00</td>\n",
       "      <td>2.00</td>\n",
       "      <td>4.00</td>\n",
       "      <td>7.00</td>\n",
       "      <td>123.00</td>\n",
       "    </tr>\n",
       "    <tr>\n",
       "      <th>loan_amnt</th>\n",
       "      <td>58645.0</td>\n",
       "      <td>9217.56</td>\n",
       "      <td>5563.81</td>\n",
       "      <td>500.00</td>\n",
       "      <td>5000.00</td>\n",
       "      <td>8000.00</td>\n",
       "      <td>12000.00</td>\n",
       "      <td>35000.00</td>\n",
       "    </tr>\n",
       "    <tr>\n",
       "      <th>loan_int_rate</th>\n",
       "      <td>58645.0</td>\n",
       "      <td>10.68</td>\n",
       "      <td>3.03</td>\n",
       "      <td>5.42</td>\n",
       "      <td>7.88</td>\n",
       "      <td>10.75</td>\n",
       "      <td>12.99</td>\n",
       "      <td>23.22</td>\n",
       "    </tr>\n",
       "    <tr>\n",
       "      <th>loan_percent_income</th>\n",
       "      <td>58645.0</td>\n",
       "      <td>0.16</td>\n",
       "      <td>0.09</td>\n",
       "      <td>0.00</td>\n",
       "      <td>0.09</td>\n",
       "      <td>0.14</td>\n",
       "      <td>0.21</td>\n",
       "      <td>0.83</td>\n",
       "    </tr>\n",
       "    <tr>\n",
       "      <th>cb_person_cred_hist_length</th>\n",
       "      <td>58645.0</td>\n",
       "      <td>5.81</td>\n",
       "      <td>4.03</td>\n",
       "      <td>2.00</td>\n",
       "      <td>3.00</td>\n",
       "      <td>4.00</td>\n",
       "      <td>8.00</td>\n",
       "      <td>30.00</td>\n",
       "    </tr>\n",
       "    <tr>\n",
       "      <th>loan_status</th>\n",
       "      <td>58645.0</td>\n",
       "      <td>0.14</td>\n",
       "      <td>0.35</td>\n",
       "      <td>0.00</td>\n",
       "      <td>0.00</td>\n",
       "      <td>0.00</td>\n",
       "      <td>0.00</td>\n",
       "      <td>1.00</td>\n",
       "    </tr>\n",
       "  </tbody>\n",
       "</table>\n",
       "</div>"
      ],
      "text/plain": [
       "                              count      mean       std      min       25%  \\\n",
       "person_age                  58645.0     27.55      6.03    20.00     23.00   \n",
       "person_income               58645.0  64046.17  37931.11  4200.00  42000.00   \n",
       "person_emp_length           58645.0      4.70      3.96     0.00      2.00   \n",
       "loan_amnt                   58645.0   9217.56   5563.81   500.00   5000.00   \n",
       "loan_int_rate               58645.0     10.68      3.03     5.42      7.88   \n",
       "loan_percent_income         58645.0      0.16      0.09     0.00      0.09   \n",
       "cb_person_cred_hist_length  58645.0      5.81      4.03     2.00      3.00   \n",
       "loan_status                 58645.0      0.14      0.35     0.00      0.00   \n",
       "\n",
       "                                 50%       75%         max  \n",
       "person_age                     26.00     30.00      123.00  \n",
       "person_income               58000.00  75600.00  1900000.00  \n",
       "person_emp_length               4.00      7.00      123.00  \n",
       "loan_amnt                    8000.00  12000.00    35000.00  \n",
       "loan_int_rate                  10.75     12.99       23.22  \n",
       "loan_percent_income             0.14      0.21        0.83  \n",
       "cb_person_cred_hist_length      4.00      8.00       30.00  \n",
       "loan_status                     0.00      0.00        1.00  "
      ]
     },
     "execution_count": 39,
     "metadata": {},
     "output_type": "execute_result"
    }
   ],
   "source": [
    "# summary statistics \n",
    "round(train.describe().T, 2)"
   ]
  },
  {
   "cell_type": "code",
   "execution_count": 40,
   "id": "ca187157",
   "metadata": {},
   "outputs": [
    {
     "data": {
      "application/vnd.microsoft.datawrangler.viewer.v0+json": {
       "columns": [
        {
         "name": "index",
         "rawType": "object",
         "type": "string"
        },
        {
         "name": "count",
         "rawType": "float64",
         "type": "float"
        },
        {
         "name": "mean",
         "rawType": "float64",
         "type": "float"
        },
        {
         "name": "std",
         "rawType": "float64",
         "type": "float"
        },
        {
         "name": "min",
         "rawType": "float64",
         "type": "float"
        },
        {
         "name": "25%",
         "rawType": "float64",
         "type": "float"
        },
        {
         "name": "50%",
         "rawType": "float64",
         "type": "float"
        },
        {
         "name": "75%",
         "rawType": "float64",
         "type": "float"
        },
        {
         "name": "max",
         "rawType": "float64",
         "type": "float"
        }
       ],
       "ref": "831b4c01-4326-4c90-b684-33e616f11995",
       "rows": [
        [
         "person_age",
         "56199.0",
         "26.73",
         "4.49",
         "20.0",
         "23.0",
         "26.0",
         "29.0",
         "40.0"
        ],
        [
         "person_income",
         "56199.0",
         "63798.81",
         "37804.66",
         "4200.0",
         "42000.0",
         "57996.0",
         "75000.0",
         "1900000.0"
        ],
        [
         "person_emp_length",
         "56199.0",
         "4.66",
         "3.84",
         "0.0",
         "2.0",
         "4.0",
         "7.0",
         "123.0"
        ],
        [
         "loan_amnt",
         "56199.0",
         "9200.2",
         "5548.55",
         "500.0",
         "5000.0",
         "8000.0",
         "12000.0",
         "35000.0"
        ],
        [
         "loan_int_rate",
         "56199.0",
         "10.67",
         "3.03",
         "5.42",
         "7.88",
         "10.75",
         "12.99",
         "23.22"
        ],
        [
         "loan_percent_income",
         "56199.0",
         "0.16",
         "0.09",
         "0.0",
         "0.09",
         "0.14",
         "0.21",
         "0.83"
        ],
        [
         "cb_person_cred_hist_length",
         "56199.0",
         "5.38",
         "3.38",
         "2.0",
         "3.0",
         "4.0",
         "8.0",
         "29.0"
        ],
        [
         "loan_status",
         "56199.0",
         "0.14",
         "0.35",
         "0.0",
         "0.0",
         "0.0",
         "0.0",
         "1.0"
        ]
       ],
       "shape": {
        "columns": 8,
        "rows": 8
       }
      },
      "text/html": [
       "<div>\n",
       "<style scoped>\n",
       "    .dataframe tbody tr th:only-of-type {\n",
       "        vertical-align: middle;\n",
       "    }\n",
       "\n",
       "    .dataframe tbody tr th {\n",
       "        vertical-align: top;\n",
       "    }\n",
       "\n",
       "    .dataframe thead th {\n",
       "        text-align: right;\n",
       "    }\n",
       "</style>\n",
       "<table border=\"1\" class=\"dataframe\">\n",
       "  <thead>\n",
       "    <tr style=\"text-align: right;\">\n",
       "      <th></th>\n",
       "      <th>count</th>\n",
       "      <th>mean</th>\n",
       "      <th>std</th>\n",
       "      <th>min</th>\n",
       "      <th>25%</th>\n",
       "      <th>50%</th>\n",
       "      <th>75%</th>\n",
       "      <th>max</th>\n",
       "    </tr>\n",
       "  </thead>\n",
       "  <tbody>\n",
       "    <tr>\n",
       "      <th>person_age</th>\n",
       "      <td>56199.0</td>\n",
       "      <td>26.73</td>\n",
       "      <td>4.49</td>\n",
       "      <td>20.00</td>\n",
       "      <td>23.00</td>\n",
       "      <td>26.00</td>\n",
       "      <td>29.00</td>\n",
       "      <td>40.00</td>\n",
       "    </tr>\n",
       "    <tr>\n",
       "      <th>person_income</th>\n",
       "      <td>56199.0</td>\n",
       "      <td>63798.81</td>\n",
       "      <td>37804.66</td>\n",
       "      <td>4200.00</td>\n",
       "      <td>42000.00</td>\n",
       "      <td>57996.00</td>\n",
       "      <td>75000.00</td>\n",
       "      <td>1900000.00</td>\n",
       "    </tr>\n",
       "    <tr>\n",
       "      <th>person_emp_length</th>\n",
       "      <td>56199.0</td>\n",
       "      <td>4.66</td>\n",
       "      <td>3.84</td>\n",
       "      <td>0.00</td>\n",
       "      <td>2.00</td>\n",
       "      <td>4.00</td>\n",
       "      <td>7.00</td>\n",
       "      <td>123.00</td>\n",
       "    </tr>\n",
       "    <tr>\n",
       "      <th>loan_amnt</th>\n",
       "      <td>56199.0</td>\n",
       "      <td>9200.20</td>\n",
       "      <td>5548.55</td>\n",
       "      <td>500.00</td>\n",
       "      <td>5000.00</td>\n",
       "      <td>8000.00</td>\n",
       "      <td>12000.00</td>\n",
       "      <td>35000.00</td>\n",
       "    </tr>\n",
       "    <tr>\n",
       "      <th>loan_int_rate</th>\n",
       "      <td>56199.0</td>\n",
       "      <td>10.67</td>\n",
       "      <td>3.03</td>\n",
       "      <td>5.42</td>\n",
       "      <td>7.88</td>\n",
       "      <td>10.75</td>\n",
       "      <td>12.99</td>\n",
       "      <td>23.22</td>\n",
       "    </tr>\n",
       "    <tr>\n",
       "      <th>loan_percent_income</th>\n",
       "      <td>56199.0</td>\n",
       "      <td>0.16</td>\n",
       "      <td>0.09</td>\n",
       "      <td>0.00</td>\n",
       "      <td>0.09</td>\n",
       "      <td>0.14</td>\n",
       "      <td>0.21</td>\n",
       "      <td>0.83</td>\n",
       "    </tr>\n",
       "    <tr>\n",
       "      <th>cb_person_cred_hist_length</th>\n",
       "      <td>56199.0</td>\n",
       "      <td>5.38</td>\n",
       "      <td>3.38</td>\n",
       "      <td>2.00</td>\n",
       "      <td>3.00</td>\n",
       "      <td>4.00</td>\n",
       "      <td>8.00</td>\n",
       "      <td>29.00</td>\n",
       "    </tr>\n",
       "    <tr>\n",
       "      <th>loan_status</th>\n",
       "      <td>56199.0</td>\n",
       "      <td>0.14</td>\n",
       "      <td>0.35</td>\n",
       "      <td>0.00</td>\n",
       "      <td>0.00</td>\n",
       "      <td>0.00</td>\n",
       "      <td>0.00</td>\n",
       "      <td>1.00</td>\n",
       "    </tr>\n",
       "  </tbody>\n",
       "</table>\n",
       "</div>"
      ],
      "text/plain": [
       "                              count      mean       std      min       25%  \\\n",
       "person_age                  56199.0     26.73      4.49    20.00     23.00   \n",
       "person_income               56199.0  63798.81  37804.66  4200.00  42000.00   \n",
       "person_emp_length           56199.0      4.66      3.84     0.00      2.00   \n",
       "loan_amnt                   56199.0   9200.20   5548.55   500.00   5000.00   \n",
       "loan_int_rate               56199.0     10.67      3.03     5.42      7.88   \n",
       "loan_percent_income         56199.0      0.16      0.09     0.00      0.09   \n",
       "cb_person_cred_hist_length  56199.0      5.38      3.38     2.00      3.00   \n",
       "loan_status                 56199.0      0.14      0.35     0.00      0.00   \n",
       "\n",
       "                                 50%       75%         max  \n",
       "person_age                     26.00     29.00       40.00  \n",
       "person_income               57996.00  75000.00  1900000.00  \n",
       "person_emp_length               4.00      7.00      123.00  \n",
       "loan_amnt                    8000.00  12000.00    35000.00  \n",
       "loan_int_rate                  10.75     12.99       23.22  \n",
       "loan_percent_income             0.14      0.21        0.83  \n",
       "cb_person_cred_hist_length      4.00      8.00       29.00  \n",
       "loan_status                     0.00      0.00        1.00  "
      ]
     },
     "execution_count": 40,
     "metadata": {},
     "output_type": "execute_result"
    }
   ],
   "source": [
    "round(train_clean.describe().T, 2)"
   ]
  },
  {
   "cell_type": "code",
   "execution_count": null,
   "metadata": {},
   "outputs": [],
   "source": []
  },
  {
   "cell_type": "code",
   "execution_count": null,
   "metadata": {},
   "outputs": [],
   "source": []
  },
  {
   "cell_type": "code",
   "execution_count": null,
   "metadata": {},
   "outputs": [],
   "source": []
  },
  {
   "cell_type": "code",
   "execution_count": null,
   "metadata": {},
   "outputs": [],
   "source": []
  },
  {
   "cell_type": "code",
   "execution_count": null,
   "metadata": {},
   "outputs": [],
   "source": []
  },
  {
   "cell_type": "code",
   "execution_count": null,
   "metadata": {},
   "outputs": [],
   "source": []
  },
  {
   "cell_type": "markdown",
   "id": "4847ad0d",
   "metadata": {},
   "source": [
    "# Feature Engineering"
   ]
  },
  {
   "cell_type": "code",
   "execution_count": null,
   "metadata": {},
   "outputs": [],
   "source": []
  },
  {
   "cell_type": "code",
   "execution_count": null,
   "metadata": {},
   "outputs": [],
   "source": []
  },
  {
   "cell_type": "code",
   "execution_count": null,
   "metadata": {},
   "outputs": [],
   "source": []
  },
  {
   "cell_type": "code",
   "execution_count": null,
   "metadata": {},
   "outputs": [],
   "source": []
  },
  {
   "cell_type": "code",
   "execution_count": null,
   "id": "4e3febc5",
   "metadata": {},
   "outputs": [],
   "source": []
  },
  {
   "cell_type": "code",
   "execution_count": null,
   "id": "dfb37c2b",
   "metadata": {},
   "outputs": [],
   "source": []
  },
  {
   "cell_type": "markdown",
   "id": "c789909d",
   "metadata": {},
   "source": [
    "## Model training \n",
    "\n",
    "1. RandomForestRegressor\n",
    "    - check for correlation\n",
    "    - \n",
    "\n",
    "2. RandomForestClassifier"
   ]
  }
 ],
 "metadata": {
  "kernelspec": {
   "display_name": "Python 3",
   "language": "python",
   "name": "python3"
  },
  "language_info": {
   "codemirror_mode": {
    "name": "ipython",
    "version": 3
   },
   "file_extension": ".py",
   "mimetype": "text/x-python",
   "name": "python",
   "nbconvert_exporter": "python",
   "pygments_lexer": "ipython3",
   "version": "3.13.0"
  }
 },
 "nbformat": 4,
 "nbformat_minor": 5
}
