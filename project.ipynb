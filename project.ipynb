{
 "cells": [
  {
   "cell_type": "markdown",
   "id": "b365fa23",
   "metadata": {},
   "source": [
    "## Load Data and dependencies"
   ]
  },
  {
   "cell_type": "code",
   "execution_count": 3,
   "id": "9169948b",
   "metadata": {},
   "outputs": [],
   "source": [
    "# import libraries\n",
    "import pandas as pd\n",
    "import numpy as np\n",
    "import matplotlib.pyplot as plt\n",
    "import seaborn as sns\n",
    "\n",
    "from sklearn.preprocessing import StandardScaler, OneHotEncoder\n",
    "from sklearn.model_selection import train_test_split\n",
    "from sklearn.ensemble import RandomForestRegressor, RandomForestClassifier\n",
    "\n"
   ]
  },
  {
   "cell_type": "code",
   "execution_count": null,
   "id": "346f11a7",
   "metadata": {},
   "outputs": [],
   "source": [
    "# load the datasets\n",
    "train = pd.read_csv(r\"C:\\Users\\Morinyo Baddestman\\Documents\\playground-series-s4e10\\train.csv\")\n",
    "test = pd.read_csv(r\"C:\\Users\\Morinyo Baddestman\\Documents\\playground-series-s4e10\\test.csv\")"
   ]
  },
  {
   "cell_type": "code",
   "execution_count": null,
   "id": "abab3c53",
   "metadata": {},
   "outputs": [
    {
     "data": {
      "application/vnd.microsoft.datawrangler.viewer.v0+json": {
       "columns": [
        {
         "name": "index",
         "rawType": "int64",
         "type": "integer"
        },
        {
         "name": "id",
         "rawType": "int64",
         "type": "integer"
        },
        {
         "name": "person_age",
         "rawType": "int64",
         "type": "integer"
        },
        {
         "name": "person_income",
         "rawType": "int64",
         "type": "integer"
        },
        {
         "name": "person_home_ownership",
         "rawType": "object",
         "type": "string"
        },
        {
         "name": "person_emp_length",
         "rawType": "float64",
         "type": "float"
        },
        {
         "name": "loan_intent",
         "rawType": "object",
         "type": "string"
        },
        {
         "name": "loan_grade",
         "rawType": "object",
         "type": "string"
        },
        {
         "name": "loan_amnt",
         "rawType": "int64",
         "type": "integer"
        },
        {
         "name": "loan_int_rate",
         "rawType": "float64",
         "type": "float"
        },
        {
         "name": "loan_percent_income",
         "rawType": "float64",
         "type": "float"
        },
        {
         "name": "cb_person_default_on_file",
         "rawType": "object",
         "type": "string"
        },
        {
         "name": "cb_person_cred_hist_length",
         "rawType": "int64",
         "type": "integer"
        },
        {
         "name": "loan_status",
         "rawType": "int64",
         "type": "integer"
        }
       ],
       "ref": "bcbbf77a-df3d-45db-abfe-d05e35bf583f",
       "rows": [
        [
         "0",
         "0",
         "37",
         "35000",
         "RENT",
         "0.0",
         "EDUCATION",
         "B",
         "6000",
         "11.49",
         "0.17",
         "N",
         "14",
         "0"
        ],
        [
         "1",
         "1",
         "22",
         "56000",
         "OWN",
         "6.0",
         "MEDICAL",
         "C",
         "4000",
         "13.35",
         "0.07",
         "N",
         "2",
         "0"
        ],
        [
         "2",
         "2",
         "29",
         "28800",
         "OWN",
         "8.0",
         "PERSONAL",
         "A",
         "6000",
         "8.9",
         "0.21",
         "N",
         "10",
         "0"
        ],
        [
         "3",
         "3",
         "30",
         "70000",
         "RENT",
         "14.0",
         "VENTURE",
         "B",
         "12000",
         "11.11",
         "0.17",
         "N",
         "5",
         "0"
        ],
        [
         "4",
         "4",
         "22",
         "60000",
         "RENT",
         "2.0",
         "MEDICAL",
         "A",
         "6000",
         "6.92",
         "0.1",
         "N",
         "3",
         "0"
        ]
       ],
       "shape": {
        "columns": 13,
        "rows": 5
       }
      },
      "text/html": [
       "<div>\n",
       "<style scoped>\n",
       "    .dataframe tbody tr th:only-of-type {\n",
       "        vertical-align: middle;\n",
       "    }\n",
       "\n",
       "    .dataframe tbody tr th {\n",
       "        vertical-align: top;\n",
       "    }\n",
       "\n",
       "    .dataframe thead th {\n",
       "        text-align: right;\n",
       "    }\n",
       "</style>\n",
       "<table border=\"1\" class=\"dataframe\">\n",
       "  <thead>\n",
       "    <tr style=\"text-align: right;\">\n",
       "      <th></th>\n",
       "      <th>id</th>\n",
       "      <th>person_age</th>\n",
       "      <th>person_income</th>\n",
       "      <th>person_home_ownership</th>\n",
       "      <th>person_emp_length</th>\n",
       "      <th>loan_intent</th>\n",
       "      <th>loan_grade</th>\n",
       "      <th>loan_amnt</th>\n",
       "      <th>loan_int_rate</th>\n",
       "      <th>loan_percent_income</th>\n",
       "      <th>cb_person_default_on_file</th>\n",
       "      <th>cb_person_cred_hist_length</th>\n",
       "      <th>loan_status</th>\n",
       "    </tr>\n",
       "  </thead>\n",
       "  <tbody>\n",
       "    <tr>\n",
       "      <th>0</th>\n",
       "      <td>0</td>\n",
       "      <td>37</td>\n",
       "      <td>35000</td>\n",
       "      <td>RENT</td>\n",
       "      <td>0.0</td>\n",
       "      <td>EDUCATION</td>\n",
       "      <td>B</td>\n",
       "      <td>6000</td>\n",
       "      <td>11.49</td>\n",
       "      <td>0.17</td>\n",
       "      <td>N</td>\n",
       "      <td>14</td>\n",
       "      <td>0</td>\n",
       "    </tr>\n",
       "    <tr>\n",
       "      <th>1</th>\n",
       "      <td>1</td>\n",
       "      <td>22</td>\n",
       "      <td>56000</td>\n",
       "      <td>OWN</td>\n",
       "      <td>6.0</td>\n",
       "      <td>MEDICAL</td>\n",
       "      <td>C</td>\n",
       "      <td>4000</td>\n",
       "      <td>13.35</td>\n",
       "      <td>0.07</td>\n",
       "      <td>N</td>\n",
       "      <td>2</td>\n",
       "      <td>0</td>\n",
       "    </tr>\n",
       "    <tr>\n",
       "      <th>2</th>\n",
       "      <td>2</td>\n",
       "      <td>29</td>\n",
       "      <td>28800</td>\n",
       "      <td>OWN</td>\n",
       "      <td>8.0</td>\n",
       "      <td>PERSONAL</td>\n",
       "      <td>A</td>\n",
       "      <td>6000</td>\n",
       "      <td>8.90</td>\n",
       "      <td>0.21</td>\n",
       "      <td>N</td>\n",
       "      <td>10</td>\n",
       "      <td>0</td>\n",
       "    </tr>\n",
       "    <tr>\n",
       "      <th>3</th>\n",
       "      <td>3</td>\n",
       "      <td>30</td>\n",
       "      <td>70000</td>\n",
       "      <td>RENT</td>\n",
       "      <td>14.0</td>\n",
       "      <td>VENTURE</td>\n",
       "      <td>B</td>\n",
       "      <td>12000</td>\n",
       "      <td>11.11</td>\n",
       "      <td>0.17</td>\n",
       "      <td>N</td>\n",
       "      <td>5</td>\n",
       "      <td>0</td>\n",
       "    </tr>\n",
       "    <tr>\n",
       "      <th>4</th>\n",
       "      <td>4</td>\n",
       "      <td>22</td>\n",
       "      <td>60000</td>\n",
       "      <td>RENT</td>\n",
       "      <td>2.0</td>\n",
       "      <td>MEDICAL</td>\n",
       "      <td>A</td>\n",
       "      <td>6000</td>\n",
       "      <td>6.92</td>\n",
       "      <td>0.10</td>\n",
       "      <td>N</td>\n",
       "      <td>3</td>\n",
       "      <td>0</td>\n",
       "    </tr>\n",
       "  </tbody>\n",
       "</table>\n",
       "</div>"
      ],
      "text/plain": [
       "   id  person_age  ...  cb_person_cred_hist_length loan_status\n",
       "0   0          37  ...                          14           0\n",
       "1   1          22  ...                           2           0\n",
       "2   2          29  ...                          10           0\n",
       "3   3          30  ...                           5           0\n",
       "4   4          22  ...                           3           0\n",
       "\n",
       "[5 rows x 13 columns]"
      ]
     },
     "execution_count": 5,
     "metadata": {},
     "output_type": "execute_result"
    }
   ],
   "source": [
    "train.head()"
   ]
  },
  {
   "cell_type": "code",
   "execution_count": 8,
   "id": "f89c02e2",
   "metadata": {},
   "outputs": [
    {
     "data": {
      "application/vnd.microsoft.datawrangler.viewer.v0+json": {
       "columns": [
        {
         "name": "index",
         "rawType": "int64",
         "type": "integer"
        },
        {
         "name": "id",
         "rawType": "int64",
         "type": "integer"
        },
        {
         "name": "person_age",
         "rawType": "int64",
         "type": "integer"
        },
        {
         "name": "person_income",
         "rawType": "int64",
         "type": "integer"
        },
        {
         "name": "person_home_ownership",
         "rawType": "object",
         "type": "string"
        },
        {
         "name": "person_emp_length",
         "rawType": "float64",
         "type": "float"
        },
        {
         "name": "loan_intent",
         "rawType": "object",
         "type": "string"
        },
        {
         "name": "loan_grade",
         "rawType": "object",
         "type": "string"
        },
        {
         "name": "loan_amnt",
         "rawType": "int64",
         "type": "integer"
        },
        {
         "name": "loan_int_rate",
         "rawType": "float64",
         "type": "float"
        },
        {
         "name": "loan_percent_income",
         "rawType": "float64",
         "type": "float"
        },
        {
         "name": "cb_person_default_on_file",
         "rawType": "object",
         "type": "string"
        },
        {
         "name": "cb_person_cred_hist_length",
         "rawType": "int64",
         "type": "integer"
        }
       ],
       "ref": "b7d1291b-defd-4140-93fd-567c722a7336",
       "rows": [
        [
         "0",
         "58645",
         "23",
         "69000",
         "RENT",
         "3.0",
         "HOMEIMPROVEMENT",
         "F",
         "25000",
         "15.76",
         "0.36",
         "N",
         "2"
        ],
        [
         "1",
         "58646",
         "26",
         "96000",
         "MORTGAGE",
         "6.0",
         "PERSONAL",
         "C",
         "10000",
         "12.68",
         "0.1",
         "Y",
         "4"
        ],
        [
         "2",
         "58647",
         "26",
         "30000",
         "RENT",
         "5.0",
         "VENTURE",
         "E",
         "4000",
         "17.19",
         "0.13",
         "Y",
         "2"
        ],
        [
         "3",
         "58648",
         "33",
         "50000",
         "RENT",
         "4.0",
         "DEBTCONSOLIDATION",
         "A",
         "7000",
         "8.9",
         "0.14",
         "N",
         "7"
        ],
        [
         "4",
         "58649",
         "26",
         "102000",
         "MORTGAGE",
         "8.0",
         "HOMEIMPROVEMENT",
         "D",
         "15000",
         "16.32",
         "0.15",
         "Y",
         "4"
        ]
       ],
       "shape": {
        "columns": 12,
        "rows": 5
       }
      },
      "text/html": [
       "<div>\n",
       "<style scoped>\n",
       "    .dataframe tbody tr th:only-of-type {\n",
       "        vertical-align: middle;\n",
       "    }\n",
       "\n",
       "    .dataframe tbody tr th {\n",
       "        vertical-align: top;\n",
       "    }\n",
       "\n",
       "    .dataframe thead th {\n",
       "        text-align: right;\n",
       "    }\n",
       "</style>\n",
       "<table border=\"1\" class=\"dataframe\">\n",
       "  <thead>\n",
       "    <tr style=\"text-align: right;\">\n",
       "      <th></th>\n",
       "      <th>id</th>\n",
       "      <th>person_age</th>\n",
       "      <th>person_income</th>\n",
       "      <th>person_home_ownership</th>\n",
       "      <th>person_emp_length</th>\n",
       "      <th>loan_intent</th>\n",
       "      <th>loan_grade</th>\n",
       "      <th>loan_amnt</th>\n",
       "      <th>loan_int_rate</th>\n",
       "      <th>loan_percent_income</th>\n",
       "      <th>cb_person_default_on_file</th>\n",
       "      <th>cb_person_cred_hist_length</th>\n",
       "    </tr>\n",
       "  </thead>\n",
       "  <tbody>\n",
       "    <tr>\n",
       "      <th>0</th>\n",
       "      <td>58645</td>\n",
       "      <td>23</td>\n",
       "      <td>69000</td>\n",
       "      <td>RENT</td>\n",
       "      <td>3.0</td>\n",
       "      <td>HOMEIMPROVEMENT</td>\n",
       "      <td>F</td>\n",
       "      <td>25000</td>\n",
       "      <td>15.76</td>\n",
       "      <td>0.36</td>\n",
       "      <td>N</td>\n",
       "      <td>2</td>\n",
       "    </tr>\n",
       "    <tr>\n",
       "      <th>1</th>\n",
       "      <td>58646</td>\n",
       "      <td>26</td>\n",
       "      <td>96000</td>\n",
       "      <td>MORTGAGE</td>\n",
       "      <td>6.0</td>\n",
       "      <td>PERSONAL</td>\n",
       "      <td>C</td>\n",
       "      <td>10000</td>\n",
       "      <td>12.68</td>\n",
       "      <td>0.10</td>\n",
       "      <td>Y</td>\n",
       "      <td>4</td>\n",
       "    </tr>\n",
       "    <tr>\n",
       "      <th>2</th>\n",
       "      <td>58647</td>\n",
       "      <td>26</td>\n",
       "      <td>30000</td>\n",
       "      <td>RENT</td>\n",
       "      <td>5.0</td>\n",
       "      <td>VENTURE</td>\n",
       "      <td>E</td>\n",
       "      <td>4000</td>\n",
       "      <td>17.19</td>\n",
       "      <td>0.13</td>\n",
       "      <td>Y</td>\n",
       "      <td>2</td>\n",
       "    </tr>\n",
       "    <tr>\n",
       "      <th>3</th>\n",
       "      <td>58648</td>\n",
       "      <td>33</td>\n",
       "      <td>50000</td>\n",
       "      <td>RENT</td>\n",
       "      <td>4.0</td>\n",
       "      <td>DEBTCONSOLIDATION</td>\n",
       "      <td>A</td>\n",
       "      <td>7000</td>\n",
       "      <td>8.90</td>\n",
       "      <td>0.14</td>\n",
       "      <td>N</td>\n",
       "      <td>7</td>\n",
       "    </tr>\n",
       "    <tr>\n",
       "      <th>4</th>\n",
       "      <td>58649</td>\n",
       "      <td>26</td>\n",
       "      <td>102000</td>\n",
       "      <td>MORTGAGE</td>\n",
       "      <td>8.0</td>\n",
       "      <td>HOMEIMPROVEMENT</td>\n",
       "      <td>D</td>\n",
       "      <td>15000</td>\n",
       "      <td>16.32</td>\n",
       "      <td>0.15</td>\n",
       "      <td>Y</td>\n",
       "      <td>4</td>\n",
       "    </tr>\n",
       "  </tbody>\n",
       "</table>\n",
       "</div>"
      ],
      "text/plain": [
       "      id  person_age  ...  cb_person_default_on_file cb_person_cred_hist_length\n",
       "0  58645          23  ...                          N                          2\n",
       "1  58646          26  ...                          Y                          4\n",
       "2  58647          26  ...                          Y                          2\n",
       "3  58648          33  ...                          N                          7\n",
       "4  58649          26  ...                          Y                          4\n",
       "\n",
       "[5 rows x 12 columns]"
      ]
     },
     "execution_count": 8,
     "metadata": {},
     "output_type": "execute_result"
    }
   ],
   "source": [
    "test.head()"
   ]
  },
  {
   "cell_type": "code",
   "execution_count": 10,
   "id": "7a3455bc",
   "metadata": {},
   "outputs": [
    {
     "name": "stdout",
     "output_type": "stream",
     "text": [
      "train dataset shape: (58645, 13)\n",
      "test dataset shape: (39098, 12)\n"
     ]
    }
   ],
   "source": [
    "# check shape\n",
    "\n",
    "print('train dataset shape:', train.shape)\n",
    "\n",
    "print('test dataset shape:', test.shape)"
   ]
  },
  {
   "cell_type": "code",
   "execution_count": null,
   "id": "e49b4cb5",
   "metadata": {},
   "outputs": [
    {
     "name": "stdout",
     "output_type": "stream",
     "text": [
      "['id' 'person_age' 'person_income' 'person_home_ownership'\n",
      " 'person_emp_length' 'loan_intent' 'loan_grade' 'loan_amnt'\n",
      " 'loan_int_rate' 'loan_percent_income' 'cb_person_default_on_file'\n",
      " 'cb_person_cred_hist_length' 'loan_status']\n",
      "['id' 'person_age' 'person_income' 'person_home_ownership'\n",
      " 'person_emp_length' 'loan_intent' 'loan_grade' 'loan_amnt'\n",
      " 'loan_int_rate' 'loan_percent_income' 'cb_person_default_on_file'\n",
      " 'cb_person_cred_hist_length']\n"
     ]
    }
   ],
   "source": [
    "col_train = np.array([c for c in train.columns])\n",
    "col_test = np.array([c for c in test.columns])"
   ]
  },
  {
   "cell_type": "markdown",
   "id": "408ed61c",
   "metadata": {},
   "source": [
    "## Data cleaning "
   ]
  },
  {
   "cell_type": "code",
   "execution_count": 15,
   "id": "0eb45e63",
   "metadata": {},
   "outputs": [],
   "source": [
    "# drop duplicates \n",
    "train = train.drop_duplicates()\n",
    "test = test.drop_duplicates()\n"
   ]
  },
  {
   "cell_type": "code",
   "execution_count": 19,
   "id": "58c74ec4",
   "metadata": {},
   "outputs": [
    {
     "data": {
      "application/vnd.microsoft.datawrangler.viewer.v0+json": {
       "columns": [
        {
         "name": "index",
         "rawType": "object",
         "type": "string"
        },
        {
         "name": "0",
         "rawType": "object",
         "type": "unknown"
        }
       ],
       "ref": "31468a15-6e73-4938-9e9a-d867511acf16",
       "rows": [
        [
         "id",
         "int64"
        ],
        [
         "person_age",
         "int64"
        ],
        [
         "person_income",
         "int64"
        ],
        [
         "person_home_ownership",
         "object"
        ],
        [
         "person_emp_length",
         "float64"
        ],
        [
         "loan_intent",
         "object"
        ],
        [
         "loan_grade",
         "object"
        ],
        [
         "loan_amnt",
         "int64"
        ],
        [
         "loan_int_rate",
         "float64"
        ],
        [
         "loan_percent_income",
         "float64"
        ],
        [
         "cb_person_default_on_file",
         "object"
        ],
        [
         "cb_person_cred_hist_length",
         "int64"
        ],
        [
         "loan_status",
         "int64"
        ]
       ],
       "shape": {
        "columns": 1,
        "rows": 13
       }
      },
      "text/plain": [
       "id                              int64\n",
       "person_age                      int64\n",
       "person_income                   int64\n",
       "person_home_ownership          object\n",
       "person_emp_length             float64\n",
       "loan_intent                    object\n",
       "loan_grade                     object\n",
       "loan_amnt                       int64\n",
       "loan_int_rate                 float64\n",
       "loan_percent_income           float64\n",
       "cb_person_default_on_file      object\n",
       "cb_person_cred_hist_length      int64\n",
       "loan_status                     int64\n",
       "dtype: object"
      ]
     },
     "execution_count": 19,
     "metadata": {},
     "output_type": "execute_result"
    }
   ],
   "source": [
    "# check for data types\n",
    "train.dtypes"
   ]
  },
  {
   "cell_type": "code",
   "execution_count": 24,
   "id": "6f0af83f",
   "metadata": {},
   "outputs": [
    {
     "name": "stdout",
     "output_type": "stream",
     "text": [
      "<class 'pandas.core.frame.DataFrame'>\n",
      "RangeIndex: 58645 entries, 0 to 58644\n",
      "Data columns (total 13 columns):\n",
      " #   Column                      Non-Null Count  Dtype  \n",
      "---  ------                      --------------  -----  \n",
      " 0   id                          58645 non-null  int64  \n",
      " 1   person_age                  58645 non-null  int64  \n",
      " 2   person_income               58645 non-null  int64  \n",
      " 3   person_home_ownership       58645 non-null  object \n",
      " 4   person_emp_length           58645 non-null  float64\n",
      " 5   loan_intent                 58645 non-null  object \n",
      " 6   loan_grade                  58645 non-null  object \n",
      " 7   loan_amnt                   58645 non-null  int64  \n",
      " 8   loan_int_rate               58645 non-null  float64\n",
      " 9   loan_percent_income         58645 non-null  float64\n",
      " 10  cb_person_default_on_file   58645 non-null  object \n",
      " 11  cb_person_cred_hist_length  58645 non-null  int64  \n",
      " 12  loan_status                 58645 non-null  int64  \n",
      "dtypes: float64(3), int64(6), object(4)\n",
      "memory usage: 5.8+ MB\n"
     ]
    }
   ],
   "source": [
    "# check for null values\n",
    "train.info()"
   ]
  },
  {
   "cell_type": "code",
   "execution_count": null,
   "id": "93e16afc",
   "metadata": {},
   "outputs": [],
   "source": [
    "# check for and clamp on outliers (strategy = mean)\n",
    "def clamp_outliers(data):\n",
    "    for col in data.columns:\n",
    "        q1 = col.quantile[0.25]\n",
    "        q3 = col.quantile[0.75]\n",
    "        iqr = q3 - q1\n",
    "        \n"
   ]
  },
  {
   "cell_type": "markdown",
   "id": "426b03cd",
   "metadata": {},
   "source": [
    "## Exploratory Data Analysis"
   ]
  },
  {
   "cell_type": "code",
   "execution_count": 23,
   "id": "8f4bfad9",
   "metadata": {},
   "outputs": [
    {
     "data": {
      "application/vnd.microsoft.datawrangler.viewer.v0+json": {
       "columns": [
        {
         "name": "index",
         "rawType": "object",
         "type": "string"
        },
        {
         "name": "id",
         "rawType": "float64",
         "type": "float"
        },
        {
         "name": "person_age",
         "rawType": "float64",
         "type": "float"
        },
        {
         "name": "person_income",
         "rawType": "float64",
         "type": "float"
        },
        {
         "name": "person_emp_length",
         "rawType": "float64",
         "type": "float"
        },
        {
         "name": "loan_amnt",
         "rawType": "float64",
         "type": "float"
        },
        {
         "name": "loan_int_rate",
         "rawType": "float64",
         "type": "float"
        },
        {
         "name": "loan_percent_income",
         "rawType": "float64",
         "type": "float"
        },
        {
         "name": "cb_person_cred_hist_length",
         "rawType": "float64",
         "type": "float"
        },
        {
         "name": "loan_status",
         "rawType": "float64",
         "type": "float"
        }
       ],
       "ref": "300b6d14-b4a0-4162-9d59-f9456c31a34f",
       "rows": [
        [
         "count",
         "58645.0",
         "58645.0",
         "58645.0",
         "58645.0",
         "58645.0",
         "58645.0",
         "58645.0",
         "58645.0",
         "58645.0"
        ],
        [
         "mean",
         "29322.0",
         "27.55",
         "64046.17",
         "4.7",
         "9217.56",
         "10.68",
         "0.16",
         "5.81",
         "0.14"
        ],
        [
         "std",
         "16929.5",
         "6.03",
         "37931.11",
         "3.96",
         "5563.81",
         "3.03",
         "0.09",
         "4.03",
         "0.35"
        ],
        [
         "min",
         "0.0",
         "20.0",
         "4200.0",
         "0.0",
         "500.0",
         "5.42",
         "0.0",
         "2.0",
         "0.0"
        ],
        [
         "25%",
         "14661.0",
         "23.0",
         "42000.0",
         "2.0",
         "5000.0",
         "7.88",
         "0.09",
         "3.0",
         "0.0"
        ],
        [
         "50%",
         "29322.0",
         "26.0",
         "58000.0",
         "4.0",
         "8000.0",
         "10.75",
         "0.14",
         "4.0",
         "0.0"
        ],
        [
         "75%",
         "43983.0",
         "30.0",
         "75600.0",
         "7.0",
         "12000.0",
         "12.99",
         "0.21",
         "8.0",
         "0.0"
        ],
        [
         "max",
         "58644.0",
         "123.0",
         "1900000.0",
         "123.0",
         "35000.0",
         "23.22",
         "0.83",
         "30.0",
         "1.0"
        ]
       ],
       "shape": {
        "columns": 9,
        "rows": 8
       }
      },
      "text/html": [
       "<div>\n",
       "<style scoped>\n",
       "    .dataframe tbody tr th:only-of-type {\n",
       "        vertical-align: middle;\n",
       "    }\n",
       "\n",
       "    .dataframe tbody tr th {\n",
       "        vertical-align: top;\n",
       "    }\n",
       "\n",
       "    .dataframe thead th {\n",
       "        text-align: right;\n",
       "    }\n",
       "</style>\n",
       "<table border=\"1\" class=\"dataframe\">\n",
       "  <thead>\n",
       "    <tr style=\"text-align: right;\">\n",
       "      <th></th>\n",
       "      <th>id</th>\n",
       "      <th>person_age</th>\n",
       "      <th>person_income</th>\n",
       "      <th>person_emp_length</th>\n",
       "      <th>loan_amnt</th>\n",
       "      <th>loan_int_rate</th>\n",
       "      <th>loan_percent_income</th>\n",
       "      <th>cb_person_cred_hist_length</th>\n",
       "      <th>loan_status</th>\n",
       "    </tr>\n",
       "  </thead>\n",
       "  <tbody>\n",
       "    <tr>\n",
       "      <th>count</th>\n",
       "      <td>58645.0</td>\n",
       "      <td>58645.00</td>\n",
       "      <td>58645.00</td>\n",
       "      <td>58645.00</td>\n",
       "      <td>58645.00</td>\n",
       "      <td>58645.00</td>\n",
       "      <td>58645.00</td>\n",
       "      <td>58645.00</td>\n",
       "      <td>58645.00</td>\n",
       "    </tr>\n",
       "    <tr>\n",
       "      <th>mean</th>\n",
       "      <td>29322.0</td>\n",
       "      <td>27.55</td>\n",
       "      <td>64046.17</td>\n",
       "      <td>4.70</td>\n",
       "      <td>9217.56</td>\n",
       "      <td>10.68</td>\n",
       "      <td>0.16</td>\n",
       "      <td>5.81</td>\n",
       "      <td>0.14</td>\n",
       "    </tr>\n",
       "    <tr>\n",
       "      <th>std</th>\n",
       "      <td>16929.5</td>\n",
       "      <td>6.03</td>\n",
       "      <td>37931.11</td>\n",
       "      <td>3.96</td>\n",
       "      <td>5563.81</td>\n",
       "      <td>3.03</td>\n",
       "      <td>0.09</td>\n",
       "      <td>4.03</td>\n",
       "      <td>0.35</td>\n",
       "    </tr>\n",
       "    <tr>\n",
       "      <th>min</th>\n",
       "      <td>0.0</td>\n",
       "      <td>20.00</td>\n",
       "      <td>4200.00</td>\n",
       "      <td>0.00</td>\n",
       "      <td>500.00</td>\n",
       "      <td>5.42</td>\n",
       "      <td>0.00</td>\n",
       "      <td>2.00</td>\n",
       "      <td>0.00</td>\n",
       "    </tr>\n",
       "    <tr>\n",
       "      <th>25%</th>\n",
       "      <td>14661.0</td>\n",
       "      <td>23.00</td>\n",
       "      <td>42000.00</td>\n",
       "      <td>2.00</td>\n",
       "      <td>5000.00</td>\n",
       "      <td>7.88</td>\n",
       "      <td>0.09</td>\n",
       "      <td>3.00</td>\n",
       "      <td>0.00</td>\n",
       "    </tr>\n",
       "    <tr>\n",
       "      <th>50%</th>\n",
       "      <td>29322.0</td>\n",
       "      <td>26.00</td>\n",
       "      <td>58000.00</td>\n",
       "      <td>4.00</td>\n",
       "      <td>8000.00</td>\n",
       "      <td>10.75</td>\n",
       "      <td>0.14</td>\n",
       "      <td>4.00</td>\n",
       "      <td>0.00</td>\n",
       "    </tr>\n",
       "    <tr>\n",
       "      <th>75%</th>\n",
       "      <td>43983.0</td>\n",
       "      <td>30.00</td>\n",
       "      <td>75600.00</td>\n",
       "      <td>7.00</td>\n",
       "      <td>12000.00</td>\n",
       "      <td>12.99</td>\n",
       "      <td>0.21</td>\n",
       "      <td>8.00</td>\n",
       "      <td>0.00</td>\n",
       "    </tr>\n",
       "    <tr>\n",
       "      <th>max</th>\n",
       "      <td>58644.0</td>\n",
       "      <td>123.00</td>\n",
       "      <td>1900000.00</td>\n",
       "      <td>123.00</td>\n",
       "      <td>35000.00</td>\n",
       "      <td>23.22</td>\n",
       "      <td>0.83</td>\n",
       "      <td>30.00</td>\n",
       "      <td>1.00</td>\n",
       "    </tr>\n",
       "  </tbody>\n",
       "</table>\n",
       "</div>"
      ],
      "text/plain": [
       "            id  person_age  ...  cb_person_cred_hist_length  loan_status\n",
       "count  58645.0    58645.00  ...                    58645.00     58645.00\n",
       "mean   29322.0       27.55  ...                        5.81         0.14\n",
       "std    16929.5        6.03  ...                        4.03         0.35\n",
       "min        0.0       20.00  ...                        2.00         0.00\n",
       "25%    14661.0       23.00  ...                        3.00         0.00\n",
       "50%    29322.0       26.00  ...                        4.00         0.00\n",
       "75%    43983.0       30.00  ...                        8.00         0.00\n",
       "max    58644.0      123.00  ...                       30.00         1.00\n",
       "\n",
       "[8 rows x 9 columns]"
      ]
     },
     "execution_count": 23,
     "metadata": {},
     "output_type": "execute_result"
    }
   ],
   "source": [
    "# summary statistics \n",
    "round(train.describe(), 2)"
   ]
  }
 ],
 "metadata": {
  "kernelspec": {
   "display_name": "Python 3",
   "language": "python",
   "name": "python3"
  },
  "language_info": {
   "codemirror_mode": {
    "name": "ipython",
    "version": 3
   },
   "file_extension": ".py",
   "mimetype": "text/x-python",
   "name": "python",
   "nbconvert_exporter": "python",
   "pygments_lexer": "ipython3",
   "version": "3.13.0"
  }
 },
 "nbformat": 4,
 "nbformat_minor": 5
}
